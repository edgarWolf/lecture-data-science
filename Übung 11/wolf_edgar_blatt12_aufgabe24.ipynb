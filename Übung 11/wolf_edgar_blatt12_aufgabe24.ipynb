{
 "cells": [
  {
   "cell_type": "markdown",
   "id": "aa0b9e53-552b-425f-b8c3-71dd34d92d6e",
   "metadata": {},
   "source": [
    "# 1.)"
   ]
  },
  {
   "cell_type": "code",
   "execution_count": 1,
   "id": "268d0a20-919d-4932-9fec-b3f98bb364bc",
   "metadata": {},
   "outputs": [],
   "source": [
    "import numpy as np\n",
    "import pandas as pd\n",
    "import matplotlib.pyplot as plt"
   ]
  },
  {
   "cell_type": "code",
   "execution_count": 2,
   "id": "0be176d8-eaac-48ff-afd5-95e5f1557fa2",
   "metadata": {},
   "outputs": [
    {
     "data": {
      "text/plain": [
       "(array([3, 6, 2, 6, 3, 3, 5, 3, 3, 1], dtype=int64), 100)"
      ]
     },
     "execution_count": 2,
     "metadata": {},
     "output_type": "execute_result"
    }
   ],
   "source": [
    "R = np.random.default_rng(1)\n",
    "binom_sample = R.binomial(10, 1/3, size=100)\n",
    "binom_sample[:10], len(binom_sample)"
   ]
  },
  {
   "cell_type": "markdown",
   "id": "122ef913-d223-4e1d-98f1-8f59594b1252",
   "metadata": {},
   "source": [
    "# 2.)"
   ]
  },
  {
   "cell_type": "code",
   "execution_count": 3,
   "id": "f864c6bb-6617-4610-b180-dda94f0e06d5",
   "metadata": {},
   "outputs": [
    {
     "data": {
      "text/plain": [
       "(1.4398263784220653, 3.37)"
      ]
     },
     "execution_count": 3,
     "metadata": {},
     "output_type": "execute_result"
    }
   ],
   "source": [
    "sample_std = binom_sample.std()\n",
    "sample_mean = binom_sample.mean()\n",
    "sample_std, sample_mean"
   ]
  },
  {
   "cell_type": "code",
   "execution_count": 4,
   "id": "a3265cba-3c92-4fe5-8952-41b1dbf9cc1c",
   "metadata": {},
   "outputs": [
    {
     "data": {
      "text/plain": [
       "Text(0.5, 1.0, 'Frequencies of numbers in the data sample')"
      ]
     },
     "execution_count": 4,
     "metadata": {},
     "output_type": "execute_result"
    },
    {
     "data": {
      "image/png": "[encoded data removed]",
      "text/plain": [
       "<Figure size 432x288 with 1 Axes>"
      ]
     },
     "metadata": {
      "needs_background": "light"
     },
     "output_type": "display_data"
    }
   ],
   "source": [
    "pd.Series(binom_sample).value_counts().sort_index().reindex(range(0, 11)).plot.bar()\n",
    "plt.title(\"Frequencies of numbers in the data sample\")"
   ]
  },
  {
   "cell_type": "markdown",
   "id": "4c7f9557-a21f-4891-8e52-be2bff8a5146",
   "metadata": {},
   "source": [
    "# 3.)"
   ]
  },
  {
   "cell_type": "code",
   "execution_count": 5,
   "id": "686cec6b-c3d4-4a57-abdd-548c7846f083",
   "metadata": {},
   "outputs": [
    {
     "data": {
      "text/plain": [
       "0    0.02\n",
       "1    0.06\n",
       "2    0.22\n",
       "3    0.25\n",
       "4    0.20\n",
       "5    0.19\n",
       "6    0.05\n",
       "7    0.01\n",
       "dtype: float64"
      ]
     },
     "execution_count": 5,
     "metadata": {},
     "output_type": "execute_result"
    }
   ],
   "source": [
    "pvals = pd.Series(binom_sample).value_counts(normalize=True).sort_index()\n",
    "pvals"
   ]
  },
  {
   "cell_type": "code",
   "execution_count": 6,
   "id": "645bb747-4949-4538-a4f9-bf3c38d5c2c6",
   "metadata": {},
   "outputs": [
    {
     "data": {
      "text/plain": [
       "([1.4428790663115185,\n",
       "  1.3091600360536522,\n",
       "  1.4378803844548405,\n",
       "  1.4703400967123217,\n",
       "  1.438714704171748,\n",
       "  1.4662537297480271,\n",
       "  1.3240468269664785,\n",
       "  1.412940196894405,\n",
       "  1.460787458872782,\n",
       "  1.5519020587653074],\n",
       " 10000)"
      ]
     },
     "execution_count": 6,
     "metadata": {},
     "output_type": "execute_result"
    }
   ],
   "source": [
    "bootstraps = [R.multinomial(n=1, pvals=pvals, size=len(binom_sample)).argmax(axis=1) for r in range(10000)]\n",
    "std_estimates = [np.std(b) for b in bootstraps]\n",
    "std_estimates[:10], len(std_estimates)"
   ]
  },
  {
   "cell_type": "code",
   "execution_count": 7,
   "id": "90fa3ee3-3405-4c5c-bf29-417b3ff2bcc0",
   "metadata": {},
   "outputs": [
    {
     "data": {
      "image/png": "[encoded data removed]",
      "text/plain": [
       "<Figure size 432x288 with 1 Axes>"
      ]
     },
     "metadata": {
      "needs_background": "light"
     },
     "output_type": "display_data"
    }
   ],
   "source": [
    "plt.hist(std_estimates, bins=50)\n",
    "start_interval = np.quantile(std_estimates, 0.025)\n",
    "end_interval = np.quantile(std_estimates, 0.975)\n",
    "plt.axvline(start_interval, color=\"black\", linestyle=\"dashed\")\n",
    "plt.axvline(end_interval, color=\"black\", linestyle=\"dashed\")\n",
    "plt.title(\"Std value estimates\")\n",
    "plt.show()"
   ]
  },
  {
   "cell_type": "code",
   "execution_count": 8,
   "id": "d62dc9bd-b7c4-4fd1-b7de-a0a65901bd0d",
   "metadata": {},
   "outputs": [
    {
     "data": {
      "text/plain": [
       "'Interval: 1.26-1.60'"
      ]
     },
     "execution_count": 8,
     "metadata": {},
     "output_type": "execute_result"
    }
   ],
   "source": [
    "\"Interval: {:.2f}-{:.2f}\".format(start_interval, end_interval)"
   ]
  },
  {
   "cell_type": "markdown",
   "id": "73795a5c-0c6f-492f-808b-48ef0d64ef85",
   "metadata": {},
   "source": [
    "# 4.)"
   ]
  },
  {
   "cell_type": "markdown",
   "id": "bdd7c403",
   "metadata": {},
   "source": [
    "Gemeint ist, wo sich \"im Allgemeinen\" die Standardabweichung befindet, und nicht an diesem konkreten Datensample im Code.\n",
    "$$\n",
    "Var[X] = \\sum_{i=1}^nVar[Y_i] + \\sum_{i \\leq j, j \\leq n} Cov[Y_i, Y_j] = np(1-p)\n",
    "$$"
   ]
  },
  {
   "cell_type": "code",
   "execution_count": 9,
   "id": "1f955b1c-9ba8-4d6a-b2a3-c99bb3057539",
   "metadata": {},
   "outputs": [
    {
     "data": {
      "text/plain": [
       "True"
      ]
     },
     "execution_count": 9,
     "metadata": {},
     "output_type": "execute_result"
    }
   ],
   "source": [
    "sample_std >= start_interval and sample_std <= end_interval"
   ]
  },
  {
   "cell_type": "code",
   "execution_count": 12,
   "id": "379068bf",
   "metadata": {},
   "outputs": [
    {
     "data": {
      "text/plain": [
       "1.4907119849998598"
      ]
     },
     "execution_count": 12,
     "metadata": {},
     "output_type": "execute_result"
    }
   ],
   "source": [
    "true_std = np.sqrt(10* 1/3 * 2/3)\n",
    "true_std"
   ]
  },
  {
   "cell_type": "markdown",
   "id": "4e3ef9e2-62cd-4af1-b6bc-749fc96a397e",
   "metadata": {},
   "source": [
    "# 5.)"
   ]
  },
  {
   "cell_type": "code",
   "execution_count": 19,
   "id": "81477e6d-07f9-4e66-ad1b-aed76455309c",
   "metadata": {},
   "outputs": [],
   "source": [
    "def bootsrap_data_check():\n",
    "    data = R.binomial(10, 1/3, size=100)\n",
    "    data_std = data.std()\n",
    "    pvals = pd.Series(data).value_counts(normalize=True).sort_index()\n",
    "    bootstraps = [R.multinomial(n=1, pvals=pvals, size=len(data)).argmax(axis=1) for r in range(10000)]\n",
    "    std_estimates = [np.std(b) for b in bootstraps]\n",
    "    std_estimates[:10], len(std_estimates)\n",
    "    start_interval = np.quantile(std_estimates, 0.025)\n",
    "    end_interval = np.quantile(std_estimates, 0.975)\n",
    "    return true_std >= start_interval and true_std <= end_interval"
   ]
  },
  {
   "cell_type": "code",
   "execution_count": 20,
   "id": "9698c43f-476b-4551-88d4-66b5cfeeb2cf",
   "metadata": {},
   "outputs": [
    {
     "name": "stdout",
     "output_type": "stream",
     "text": [
      "Iteration 0 : Sucess count: 1\n",
      "Iteration 1 : Sucess count: 2\n",
      "Iteration 2 : Sucess count: 3\n",
      "Iteration 3 : Sucess count: 4\n",
      "Iteration 4 : Sucess count: 5\n",
      "Iteration 5 : Sucess count: 6\n",
      "Iteration 6 : Sucess count: 7\n",
      "Iteration 7 : Sucess count: 8\n",
      "Iteration 8 : Sucess count: 9\n",
      "Iteration 9 : Sucess count: 10\n",
      "Iteration 10 : Sucess count: 11\n",
      "Iteration 11 : Sucess count: 11\n",
      "Iteration 12 : Sucess count: 12\n",
      "Iteration 13 : Sucess count: 12\n",
      "Iteration 14 : Sucess count: 13\n",
      "Iteration 15 : Sucess count: 14\n",
      "Iteration 16 : Sucess count: 15\n",
      "Iteration 17 : Sucess count: 16\n",
      "Iteration 18 : Sucess count: 17\n",
      "Iteration 19 : Sucess count: 18\n",
      "Iteration 20 : Sucess count: 19\n",
      "Iteration 21 : Sucess count: 20\n",
      "Iteration 22 : Sucess count: 21\n",
      "Iteration 23 : Sucess count: 22\n",
      "Iteration 24 : Sucess count: 23\n",
      "Iteration 25 : Sucess count: 24\n",
      "Iteration 26 : Sucess count: 24\n",
      "Iteration 27 : Sucess count: 25\n",
      "Iteration 28 : Sucess count: 26\n",
      "Iteration 29 : Sucess count: 27\n",
      "Iteration 30 : Sucess count: 28\n",
      "Iteration 31 : Sucess count: 29\n",
      "Iteration 32 : Sucess count: 30\n",
      "Iteration 33 : Sucess count: 31\n",
      "Iteration 34 : Sucess count: 31\n",
      "Iteration 35 : Sucess count: 32\n",
      "Iteration 36 : Sucess count: 33\n",
      "Iteration 37 : Sucess count: 34\n",
      "Iteration 38 : Sucess count: 35\n",
      "Iteration 39 : Sucess count: 36\n",
      "Iteration 40 : Sucess count: 37\n",
      "Iteration 41 : Sucess count: 38\n",
      "Iteration 42 : Sucess count: 39\n",
      "Iteration 43 : Sucess count: 40\n",
      "Iteration 44 : Sucess count: 41\n",
      "Iteration 45 : Sucess count: 42\n",
      "Iteration 46 : Sucess count: 43\n",
      "Iteration 47 : Sucess count: 44\n",
      "Iteration 48 : Sucess count: 45\n",
      "Iteration 49 : Sucess count: 46\n",
      "Iteration 50 : Sucess count: 47\n",
      "Iteration 51 : Sucess count: 48\n",
      "Iteration 52 : Sucess count: 49\n",
      "Iteration 53 : Sucess count: 50\n",
      "Iteration 54 : Sucess count: 51\n",
      "Iteration 55 : Sucess count: 52\n",
      "Iteration 56 : Sucess count: 53\n",
      "Iteration 57 : Sucess count: 54\n",
      "Iteration 58 : Sucess count: 54\n",
      "Iteration 59 : Sucess count: 55\n",
      "Iteration 60 : Sucess count: 56\n",
      "Iteration 61 : Sucess count: 57\n",
      "Iteration 62 : Sucess count: 58\n",
      "Iteration 63 : Sucess count: 59\n",
      "Iteration 64 : Sucess count: 60\n",
      "Iteration 65 : Sucess count: 60\n",
      "Iteration 66 : Sucess count: 61\n",
      "Iteration 67 : Sucess count: 62\n",
      "Iteration 68 : Sucess count: 63\n",
      "Iteration 69 : Sucess count: 64\n",
      "Iteration 70 : Sucess count: 65\n",
      "Iteration 71 : Sucess count: 66\n",
      "Iteration 72 : Sucess count: 67\n",
      "Iteration 73 : Sucess count: 68\n",
      "Iteration 74 : Sucess count: 69\n",
      "Iteration 75 : Sucess count: 70\n",
      "Iteration 76 : Sucess count: 71\n",
      "Iteration 77 : Sucess count: 72\n",
      "Iteration 78 : Sucess count: 73\n",
      "Iteration 79 : Sucess count: 74\n",
      "Iteration 80 : Sucess count: 75\n",
      "Iteration 81 : Sucess count: 76\n",
      "Iteration 82 : Sucess count: 77\n",
      "Iteration 83 : Sucess count: 78\n",
      "Iteration 84 : Sucess count: 79\n",
      "Iteration 85 : Sucess count: 80\n",
      "Iteration 86 : Sucess count: 81\n",
      "Iteration 87 : Sucess count: 82\n",
      "Iteration 88 : Sucess count: 83\n",
      "Iteration 89 : Sucess count: 84\n",
      "Iteration 90 : Sucess count: 85\n",
      "Iteration 91 : Sucess count: 86\n",
      "Iteration 92 : Sucess count: 87\n",
      "Iteration 93 : Sucess count: 88\n",
      "Iteration 94 : Sucess count: 89\n",
      "Iteration 95 : Sucess count: 90\n",
      "Iteration 96 : Sucess count: 91\n",
      "Iteration 97 : Sucess count: 92\n",
      "Iteration 98 : Sucess count: 93\n",
      "Iteration 99 : Sucess count: 94\n"
     ]
    },
    {
     "data": {
      "text/plain": [
       "'Success rate: 94.00 %'"
      ]
     },
     "execution_count": 20,
     "metadata": {},
     "output_type": "execute_result"
    }
   ],
   "source": [
    "success_count = 0\n",
    "print_current_success = True\n",
    "num_repetitions = 100\n",
    "for i in range(num_repetitions):\n",
    "    success_count += int(bootsrap_data_check())\n",
    "    if print_current_success:\n",
    "        print(\"Iteration {} : Sucess count: {}\".format(i, success_count))\n",
    "\"Success rate: {:.2f} %\".format((success_count / num_repetitions) * 100)"
   ]
  }
 ],
 "metadata": {
  "kernelspec": {
   "display_name": "Python 3 (ipykernel)",
   "language": "python",
   "name": "python3"
  },
  "language_info": {
   "codemirror_mode": {
    "name": "ipython",
    "version": 3
   },
   "file_extension": ".py",
   "mimetype": "text/x-python",
   "name": "python",
   "nbconvert_exporter": "python",
   "pygments_lexer": "ipython3",
   "version": "3.8.12"
  }
 },
 "nbformat": 4,
 "nbformat_minor": 5
}
