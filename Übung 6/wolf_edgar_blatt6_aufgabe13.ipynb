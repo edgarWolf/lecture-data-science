{
 "cells": [
  {
   "cell_type": "markdown",
   "metadata": {},
   "source": [
    "# Voraussetzungen\n",
    "\n",
    "$$\n",
    "- \\text{ i) } \\mathbb{P}(\\Omega) = 1 \\\\\n",
    "- \\text{ ii) } A_1, A_2, ..., \\in \\mathcal{A} \\text{ paarweise disjunkt, also} A_i \\cap A_j = \\empty, i,j \\geq 1, i \\neq j \\Rightarrow \\mathbb{P}(\\bigcup\\limits_{i \\geq 1}A_i) = \\sum_{i \\geq 1}\\mathbb{P}(A_i) \\\\\n",
    "- \\text{Definition des Wahrscheinlichkeitsmaßes: } \\mathbb{P} : \\mathcal{A} \\rightarrow [0,1]\n",
    "$$"
   ]
  },
  {
   "cell_type": "markdown",
   "metadata": {},
   "source": [
    "# 1.)\n",
    "## Zu zeigen:\n",
    "$$\n",
    "\\mathbb{P}(\\empty) = 0 \\\\\n",
    "$$\n",
    "\n",
    "## Beweis:\n",
    "$$\n",
    "\\text{Sei}  A_1, A_2, ... = \\empty \\\\\n",
    "\\text{Dann gilt für alle } i,j \\geq 1 \\land i \\neq j : A_i \\cap A_j = \\empty \\\\ \n",
    "\\text{Die Elemente sind also paarweise disjunkt.} \\\\\n",
    "\\text{Zudem gilt für alle } i,j \\geq 1 \\land i \\neq j : A_i \\cup A_j = \\empty \\\\\n",
    "\\text{Nach ii) gilt für solche Mengen: } \\\\\n",
    "\\mathbb{P}(\\bigcup\\limits_{i \\geq 1}A_i) = \\sum_{i \\geq 1}\\mathbb{P}(A_i) = \\mathbb{P}(A_1) + \\mathbb{P}(A_2) + \\mathbb{P}(A_3) + ... = \\mathbb{P}(\\empty) + \\mathbb{P}(\\empty) + \\mathbb{P}(\\empty) + ... \\\\\n",
    "\\Rightarrow \\mathbb{P}(\\empty) = \\sum_{i \\geq 1}\\mathbb{P}(A_i) = \\mathbb{P}(\\empty) + \\mathbb{P}(\\empty) + \\mathbb{P}(\\empty) + ... \\\\\n",
    "\\Leftrightarrow \\mathbb{P}(\\empty) = \\mathbb{P}(\\empty) + \\mathbb{P}(\\empty) + \\mathbb{P}(\\empty) + ... \\\\\n",
    "\\Leftrightarrow \\mathbb{P}(\\empty) = 0\n",
    "$$"
   ]
  },
  {
   "cell_type": "markdown",
   "metadata": {},
   "source": [
    "# 2.)"
   ]
  },
  {
   "cell_type": "markdown",
   "metadata": {},
   "source": [
    "## Zu zeigen:\n",
    "\n",
    "$$\n",
    "\\text{Eigenschaft ii) für endlich viele Mengen } A_1, ... , A_n \n",
    "$$\n",
    "\n",
    "## Beweis:\n",
    "$$\n",
    "\\text{Sei } A_1, ..., A_n \\in \\mathcal{A} \\text{ und für alle  } i,j \\geq 1, i \\neq j, i,j \\leq n  A_i \\cap A_j = \\empty \\\\\n",
    "\\Rightarrow \\bigcup\\limits_{i = 1}^{n}A_i = \\mathcal{A} \\\\\n",
    "\\text{Nach ii) gilt: } \\mathbb{P}(\\bigcup\\limits_{i = 1}^{n}A_i) = \\sum_{i=1}^{n}\\mathbb{P}(A_i) \\text{ und damit } \\mathbb{P}(\\bigcup\\limits_{i = 1}^{n}A_i) = \\mathbb{P}(\\mathcal{A}) = \\sum_{i = 1}^{n}\\mathbb{P}(A_i)\n",
    "$$"
   ]
  },
  {
   "cell_type": "markdown",
   "metadata": {},
   "source": [
    "# 3.)"
   ]
  },
  {
   "cell_type": "markdown",
   "metadata": {},
   "source": [
    "## Zu zeigen:\n",
    "\n",
    "$$\n",
    "\\mathbb{P}(A \\cup B) + \\mathbb{P}(A \\cap B) = \\mathbb{P}(A) + \\mathbb{P}(B)\n",
    "$$\n",
    "\n",
    "## Beweis:\n",
    "$$\n",
    "\\text{Für den Fall } A \\cap B = \\empty \\text{ ist die Aussage trivial nach ii) beweisbar: } \\\\\n",
    "\\mathbb{P}(A \\cup B) + \\mathbb{P}(A \\cap B) = \\mathbb{P}(A) + \\mathbb{P}(B) + P(\\empty) = \\mathbb{P}(A) + \\mathbb{P}(B) + 0 = \\mathbb{P}(A) + \\mathbb{P}(B) \\\\\n",
    "\\text{Betrachte den Fall } A \\cap B \\neq \\empty : \\\\\n",
    "A = \\{ \\omega \\in \\Omega : \\omega \\in A  \\} \\\\\n",
    "B = \\{ \\omega \\in \\Omega : \\omega \\in B \\}  \\\\\n",
    "A \\cap B =  \\{ \\omega \\in \\Omega : \\omega \\in A \\land \\omega \\in B \\} \\\\\n",
    "A \\cup B =  \\{ \\omega \\in \\Omega : \\omega \\in A \\lor \\omega \\in B \\} \\\\\n",
    "\\text{Umformung der Aussage: } \\mathbb{P}(A \\cup B)  = \\mathbb{P}((A \\setminus B) \\cup (B \\setminus A) \\cup (A \\cap B)) \\\\\n",
    "\\text{Dann gilt nach ii): } \\mathbb{P}(A \\cup B) = \\mathbb{P}(A \\setminus B) + \\mathbb{P}(B \\setminus A) + \\mathbb{P}(A \\cap B) \\\\\n",
    "\\text{Erweitern mit Minterm, ohne Veränderung der Aussage: } \\mathbb{P}(A \\cup B) = \\mathbb{P}(A \\setminus B) + \\mathbb{P}(A \\cap B) + \\mathbb{P}(B \\setminus A) +  \\mathbb{P}(A \\cap B) - \\mathbb{P}(A \\cap B)  \\\\\n",
    "\\text{Es gilt: } (A \\setminus B) \\cup (A \\cap B) = A \\text{ und } (B \\setminus A) \\cup (A \\cap B) = B \\text{ und damit unter Anwendung von ii): }\\\\\n",
    "\\mathbb{P}(A \\cup B) = \\mathbb{P}((A \\setminus B) \\cup (A \\cap B)) + \\mathbb{P}((B \\setminus A) \\cup (A \\cap B)) - \\mathbb{P}(A \\cap B) \\\\\n",
    "\\Rightarrow \\mathbb{P}(A \\cup B) = \\mathbb{P}(A) + \\mathbb{P}(B) - \\mathbb{P}(A \\cap B) \\\\\n",
    "\\Rightarrow \\mathbb{P}(A \\cup B) + \\mathbb{P}(A \\cap B)  = \\mathbb{P}(A) + \\mathbb{P}(B) \\\\\n",
    "\n",
    "$$"
   ]
  },
  {
   "cell_type": "markdown",
   "metadata": {},
   "source": [
    "# 4.)"
   ]
  },
  {
   "cell_type": "markdown",
   "metadata": {},
   "source": [
    "## Zu zeigen:\n",
    "\n",
    "$$\n",
    "\\mathbb{P}(A) + \\mathbb{P}(\\mathcal{C}A) = 1 \\text{ , wobei } \\mathcal{C}A = \\{ \\omega \\in \\Omega: \\omega \\not \\in A \\} = \\Omega \\setminus A \\\\\n",
    "$$\n",
    "\n",
    "## Beweis:\n",
    "$$\n",
    "A = \\{ \\omega \\in \\Omega: \\omega \\in A \\} = \\{\\omega \\in \\Omega: \\omega \\not \\in \\mathcal{C}A \\} = \\Omega \\setminus \\mathcal{C}A \\text{ und somit } A \\cap \\mathcal{C}A = \\empty \\\\\n",
    "\\text{Dann gilt nach ii): } \\mathbb{P}(A) + \\mathbb{P}(\\mathcal{C}A) = \\mathbb{P}(A \\cup \\mathcal{C}A) = \\mathbb{P}((\\Omega \\setminus A) \\cup (\\Omega \\setminus \\mathcal{C}A)) = \\mathbb{P}(\\Omega) = 1\n",
    "$$"
   ]
  },
  {
   "cell_type": "markdown",
   "metadata": {},
   "source": [
    "# 5.)"
   ]
  },
  {
   "cell_type": "markdown",
   "metadata": {},
   "source": [
    "## Zu zeigen:\n",
    "\n",
    "$$\n",
    "A \\subseteq B \\Rightarrow \\mathbb{P}(A) \\leq \\mathbb{P}(B)\n",
    "$$\n",
    "\n",
    "## Beweis:\n",
    "$$\n",
    "\\text{Beweis durch Kontraposition: Man nehme an } \\mathbb{P}(A) \\gt \\mathbb{P}(B) \\text{ bei gleicher Voraussetzung.} \\\\\n",
    "A \\subseteq B \\Rightarrow \\mathbb{P}(A) \\gt \\mathbb{P}(B) \\\\\n",
    "\\text{Wähle nun } B = \\Omega. \\text{ Dann gilt nach i): } \\mathbb{P}(B) = \\mathbb{P}(\\Omega) = 1 \\\\\n",
    "A \\subseteq \\Omega \\Rightarrow \\mathbb{P}(A) \\gt 1 \\\\\n",
    "\\text{Da das Wahrscheinlichkeitsmaß als Abbildung } \\mathbb{P} : \\mathcal{A} \\rightarrow [0,1] \\text{ definiert ist, ist ein } A \\text{ mit } \\mathbb{P}(A) \\gt 1 \\text{ unzulässig.} \\\\\n",
    "\\text{Wir erhalten also einen Widerspruch, das heißt die Gegenthese ist falsch und die ursprüngliche Aussage muss wahr sein.}\n",
    "$$"
   ]
  },
  {
   "cell_type": "markdown",
   "metadata": {},
   "source": [
    "Nun sei eine Zufallsvariable $ X $ definiert. Diese sei Bernoulliverteilt mit $ p \\in (0, 1) $"
   ]
  },
  {
   "cell_type": "markdown",
   "metadata": {},
   "source": [
    "# 6.)"
   ]
  },
  {
   "cell_type": "markdown",
   "metadata": {},
   "source": [
    "## Zu erklären:\n",
    "Wie $ \\mathbb{P}(X=1) $ zu verstehen ist, und wie dieser Ausdruck durch die Bestandteile des Wahrscheinlichkeitsraums unter Verwendung einer Urbildannahme formal definiert ist.\n",
    "\n",
    "## Erklärung:\n",
    "Der Ausdruck bezeichnet das durch $ X = 1 $, $ 1 \\in \\Omega $ transportierte Maß $ P_X $, was der Verteilung von $ X $ unter einer Bernoulliverteilung auf $ \\mathbb{R} $ entspricht. \\\\\n",
    "Formal ausgedrückt: $\\mathcal{L} := \\mathcal{P}_X := \\mathbb{P} \\circ X⁻¹$"
   ]
  },
  {
   "cell_type": "markdown",
   "metadata": {},
   "source": [
    "# 7.)"
   ]
  },
  {
   "cell_type": "markdown",
   "metadata": {},
   "source": [
    "## Aufgabe:\n",
    "Es sei $ a \\lt b $ und $ A = [a, b] \\subset \\mathbb{R} $ ein Intervall. Geben Sie eine Formel an für $ \\mathbb{P}_X(A) $\n",
    "\n",
    "## Formel:\n",
    "$$\n",
    "\\mathbb{P}_X(A) = \\mathbb{P}(X⁻¹(A)) := \\mathbb{P}(X \\in A) \\\\\n",
    "\\Leftrightarrow \\mathbb{P}_X(A) \\mathbb{P}(X⁻¹([a,b])) := \\mathbb{P}(X \\in [a,b]) \\\\\n",
    "\\Leftrightarrow \\mathbb{P}(X \\in [a,b]) = 1 - (\\mathbb{P}(X \\leq a) + \\mathbb{P}(X \\geq b)\n",
    "\\Leftrightarrow \\mathbb{P}(X \\in [a,b]) = 1 - (\\mathbb{P}(X \\leq a) + \\mathbb{P}(X \\geq b)\n",
    "$$"
   ]
  }
 ],
 "metadata": {
  "interpreter": {
   "hash": "694a9dfeccd2ddb8843df4ce1f1609feedf1a4a84b95446e18a965a9beddbfdf"
  },
  "kernelspec": {
   "display_name": "Python 3.9.7 64-bit ('env_study': conda)",
   "language": "python",
   "name": "python3"
  },
  "language_info": {
   "name": "python",
   "version": "3.9.7"
  },
  "orig_nbformat": 4
 },
 "nbformat": 4,
 "nbformat_minor": 2
}
