{
 "cells": [
  {
   "cell_type": "markdown",
   "metadata": {},
   "source": [
    "# 1.)"
   ]
  },
  {
   "cell_type": "markdown",
   "metadata": {},
   "source": [
    "# A)"
   ]
  },
  {
   "cell_type": "markdown",
   "metadata": {},
   "source": [
    "### Zu zeigen:\n",
    "\n",
    "$ \\sum_{i=1}^{n}r_i = 0 $\n",
    "\n",
    "$ \\sum_{i=1}^{n} y_i - f(x_i) = 0 $ \n",
    "\n",
    "$ \\sum_{i=1}^{n} y_i - (a_0 + a_1 * x_i) = 0 $ \n",
    "\n",
    "$ \\sum_{i=1}^{n} y_i - (\\bar{y} - \\bar{x} * \\frac{C(x, y)}{V(x)} + \\frac{C(x, y)}{V(x)} * x_i) = 0 $ \n",
    "\n",
    "$ \\sum_{i=1}^{n} y_i - (\\bar{y} + \\frac{C(x, y)}{V(x)} * (x_i - \\bar{x})) = 0 $ \n",
    "\n",
    "$ \\sum_{i=1}^{n} y_i - \\bar{y} - \\frac{C(x, y)}{V(x)} * (x_i - \\bar{x}) = 0 $ \n",
    "\n",
    "$ \\sum_{i=1}^{n} y_i - n *\\bar{y} - \\frac{C(x, y)}{V(x)} * (\\sum_{i=1}^{n}x_i - n * \\bar{x}) = 0 $ \n",
    "\n",
    "Da $ \\bar{x} = \\frac{1}{n} \\sum_{i=1}^{n} x_i $ und $ \\bar{y} = \\frac{1}{n} \\sum_{i=1}^{n} y_i $ :\n",
    "\n",
    "$ \\sum_{i=1}^{n}x_i - n * \\bar{x} = \\sum_{i=1}^{n}x_i - n *  \\frac{1}{n} \\sum_{i=1}^{n} x_i = 0 $     und \n",
    "\n",
    "$ \\sum_{i=1}^{n}y_i - n * \\bar{y} = \\sum_{i=1}^{n}y_i - n *  \\frac{1}{n} \\sum_{i=1}^{n} y_i = 0 $     folgt\n",
    "\n",
    "$ 0 - \\frac{C(x, y)}{V(x)} * 0 = 0 $\n",
    "\n"
   ]
  },
  {
   "cell_type": "markdown",
   "metadata": {},
   "source": [
    "### Zu zeigen:\n",
    "\n",
    "$$\n",
    "\\bar{y} = \\hat{y} \\\\\n",
    "\\frac{1}{n}\\sum_{i=1}^{n}y_i = \\frac{1}{n}\\sum_{i=1}^{n}\\hat{y}_i \\\\\n",
    "\\frac{1}{n}\\sum_{i=1}^{n}y_i = \\frac{1}{n}\\sum_{i=1}^{n}f(x_i) \\\\\n",
    "\\frac{1}{n}\\sum_{i=1}^{n}r_i + f(x_i) = \\frac{1}{n}\\sum_{i=1}^{n}f(x_i) \\\\\n",
    "\\frac{1}{n} * (\\sum_{i=1}^{n}r_i + \\sum{f(x_i)}) = \\frac{1}{n}\\sum_{i=1}^{n}f(x_i) \\\\\n",
    "Da  \\sum_{i=1}^{n}r_i = 0, folgt:\n",
    "$$\n",
    "$$\n",
    "\\frac{1}{n}\\sum_{i=1}^{n}f(x_i) = \\frac{1}{n}\\sum_{i=1}^{n}f(x_i)\n",
    "$$ "
   ]
  },
  {
   "cell_type": "markdown",
   "metadata": {},
   "source": [
    "# B)\n"
   ]
  },
  {
   "cell_type": "markdown",
   "metadata": {},
   "source": [
    "### Zu zeigen:\n",
    "$$\n",
    "\\sum_{i=1}^{n}r_i*x_i=0 \\\\\n",
    "\\sum_{i=1}^{n}(y_i - f(x_i))*x_i=0 \\\\\n",
    "\\sum_{i=1}^{n} y_i*x_i - f(x_i)*x_i=0 \\\\\n",
    "\\sum_{i=1}^{n} y_i*x_i - (a_0 + a_1*x_i)*x_i=0 \\\\\n",
    "\\sum_{i=1}^{n} y_i*x_i - (a_0*x_i + a_1*x_i²)=0 \\\\\n",
    "\\sum_{i=1}^{n} y_i*x_i - ((\\bar{y} - \\bar{x} * \\frac{C(x,y)}{V(x)})*x_i + \\frac{C(x,y)}{V(x)} *x_i²)=0 \\\\\n",
    "\\sum_{i=1}^{n} y_i*x_i - (\\bar{y}*x_i-\\bar{x}*x_i*\\frac{C(x,y)}{V(x)}+\\frac{C(x,y)}{V(x)}*x_i²)=0 \\\\\n",
    "\\sum_{i=1}^{n} y_i*x_i - (x_i*(\\bar{y}-\\bar{x}*\\frac{C(x,y)}{V(x)}+x_i*\\frac{C(x,y)}{V(x)})) \\\\\n",
    "\\sum_{i=1}^{n} y_i*x_i - (x_i*(\\bar{y} + \\frac{C(x,y)}{V(x)}*(x_i-\\bar{x})) \\\\\n",
    "$$\n",
    "Aus A) ist bekannt dass $ \\sum_{i=1}^{n}x_i - n*\\bar{x} = 0 $, somit folgt:\n",
    "$$\n",
    "\\sum_{i=1}^{n}y_i*x_i - x_i*\\bar{y} \\\\\n",
    "\\sum_{i=1}^{n}x_i*(y_i-\\bar{y})\n",
    "$$\n",
    "Analog gilt $ \\sum_{i=1}^{n}y_i - n*\\bar{y} $ und somit:\n",
    "$$\n",
    "\\sum_{i=1}^{n}x_i*0 = 0\n",
    "$$"
   ]
  },
  {
   "cell_type": "markdown",
   "metadata": {},
   "source": [
    "### Zu zeigen:\n",
    "$$\n",
    "\\sum_{i=1}^{n}r_i*f(x_i) = 0\n",
    "$$\n",
    "\n",
    "$$\n",
    "\\sum_{i=1}^{n}(y_i - f(x_i))*f(x_i) = 0 \\\\\n",
    "\\sum_{i=1}^{n}y_i * f(x_i) - f(x_i)² = 0 \\\\\n",
    "\\sum_{i=1}^{n}y_i * (a_0+a_1*x_i) - (a_0+a_1*x_i)² = 0 \\\\\n",
    "\\sum_{i=1}^{n}y_i * (\\bar{y}-\\bar{x}*\\frac{C(x,y)}{V(x)}+\\frac{C(x,y)}{V(x)}*x_i) - (\\bar{y}-\\bar{x}*\\frac{C(x,y)}{V(x)}+\\frac{C(x,y)}{V(x)}*x_i)² = 0\n",
    "$$\n",
    "\n",
    "Nähere Betrachtung von $ \\bar{y}-\\bar{x}*\\frac{C(x,y)}{V(x)}+\\frac{C(x,y)}{V(x)}*x_i $:\n",
    "$$\n",
    "\\bar{y}-\\bar{x}*\\frac{C(x,y)}{V(x)}+\\frac{C(x,y)}{V(x)}*x_i = \\bar{y} + \\frac{C(x,y)}{V(x)}*(x_i - \\bar{x})\n",
    "$$\n",
    "\n",
    "Aus A) ist bekannt dass $ \\sum_{i=1}^{n}x_i - n*\\bar{x} = 0 $, somit folgt:\n",
    "$$\n",
    "\\sum_{i=1}^{n}y_i*\\bar{y} - \\bar{y}² \\\\\n",
    "\\sum_{i=1}^{n}\\bar{y}*(y_i - \\bar{y}) \\\\\n",
    "\\sum_{i=1}^{n}\\bar{y} * 0 = 0 \\\\\n",
    "$$"
   ]
  },
  {
   "cell_type": "markdown",
   "metadata": {},
   "source": [
    "# c)\n",
    "Zu zeigen:\n",
    "$$\n",
    "R² = 1 - \\frac{\\sum_{i=1}^{n}r_i[f]²}{\\sum_{i=1}^{n}r_i[f\\ast]²} \\\\\n",
    "R² = 1 - \\frac{\\sum_{i=1}^{n}(y_i - f(x_i))²}{\\sum_{i=1}^{n}(y-\\bar{y})²} \\\\\n",
    "R² = \\frac{\\sum_{i=1}^{n}(y-\\bar{y})²}{\\sum_{i=1}^{n}(y-\\bar{y})²} - \\frac{\\sum_{i=1}^{n}(y_i - f(x_i))²}{\\sum_{i=1}^{n}(y-\\bar{y})²} \\\\ \n",
    "R² = \\frac{\\sum_{i=1}^{n}(y-\\bar{y})² - \\sum_{i=1}^{n}(y_i - f(x_i))²}{\\sum_{i=1}^{n}(y-\\bar{y})²} \\\\\n",
    "R² = \\frac{\\sum_{i=1}^{n}(y-\\bar{y})² - (y_i - f(x_i))²}{\\sum_{i=1}^{n}(y-\\bar{y})²}\n",
    "$$"
   ]
  },
  {
   "cell_type": "markdown",
   "metadata": {},
   "source": [
    "# 2.)"
   ]
  },
  {
   "cell_type": "markdown",
   "metadata": {},
   "source": [
    "# A)"
   ]
  },
  {
   "cell_type": "markdown",
   "metadata": {},
   "source": [
    "Zu zeigen:\n",
    "$$\n",
    "\\sum_{i=1}^{n}(x_i-\\bar{x})(y_i-\\bar{y}) = \\sum_{i=1}^{n}x_iy_i-n\\bar{x}*\\bar{y}\\\\\n",
    "\\sum_{i=1}^{n}x_i*y_i-x_i*\\bar{y}-\\bar{x}y_i+\\bar{x}\\bar{y} \\\\\n",
    "\\sum_{i=1}^{n}x_i*y_i-x_i*\\bar{y}-\\bar{x}y_i + n\\bar{x}*\\bar{y} \\\\\n",
    "\\sum_{i=1}^{n}x_i*y_i - \\sum_{i=1}^{n}x_i*\\bar{y} - \\sum_{i=1}^{n}\\bar{x}y_i + n\\bar{x}*\\bar{y} \\\\\n",
    "\\sum_{i=1}^{n}x_i*y_i - \\bar{y} * \\sum_{i=1}^{n}x_i - \\bar{x} * \\sum_{i=1}^{n}y_i + n\\bar{x}*\\bar{y} \\\\\n",
    "$$\n",
    "Da $ \\sum_{i=1}^{n}x_i = n * \\bar{x} $ gilt:\n",
    "$$\n",
    "\\sum_{i=1}^{n}x_i*y_i - n*\\bar{y}*\\bar{x} - n*\\bar{x}*\\bar{y} + n\\bar{x}*\\bar{y} \\\\\n",
    "\\sum_{i=1}^{n}x_i*y_i - n\\bar{x}*\\bar{y}\n",
    "$$"
   ]
  },
  {
   "cell_type": "markdown",
   "metadata": {},
   "source": [
    "# B)"
   ]
  },
  {
   "cell_type": "markdown",
   "metadata": {},
   "source": [
    "Zu zeigen:\n",
    "$$\n",
    "a_1 = cor(x,y)\\frac{sd(y)}{sd(x)} \\\\\n",
    "cor(x,y)\\frac{sd(y)}{sd(x)} = \\frac{\\sum_{i=1}^{n}(x_i-\\bar{x})(y_i-\\bar{y}) \\sqrt{\\sum_{i=1}^{n}(y_i-\\bar{y})²}}{\\sqrt{\\sum_{i=1}^{n}(x_i-\\bar{x})²}\\sqrt{\\sum_{i=1}{n}(y_i-\\bar{y})²} \\sqrt{\\sum_{i=1}^{n}(x_i-\\bar{x})²}} \\\\\n",
    "cor(x,y)\\frac{sd(y)}{sd(x)} = \\frac{\\sum_{i=1}^{n}(x_i-\\bar{x})(y_i-\\bar{y})}{\\sum_{i=1}^{n}(x_i-\\bar{x})²} \\\\\n",
    "$$\n",
    "Steinerscher Verschiebungssatz:\n",
    "$$\n",
    "cor(x,y)\\frac{sd(y)}{sd(x)} = \\frac{\\sum_{i=1}^{n}x_iy_i-n\\bar{x}*\\bar{y}}{\\sum_{i=1}^{n}(x_i-\\bar{x})²} \\\\\n",
    "cor(x,y)\\frac{sd(y)}{sd(x)} = \\frac{\\sum_{i=1}^{n}x_iy_i-n\\bar{x}*\\bar{y}}{\\sum_{i=1}^{n}x_i² - n\\bar{x}²} \\\\\n",
    "a_1 = \\frac{f(x_i) - a_0}{x} \\\\\n",
    "$$"
   ]
  },
  {
   "cell_type": "markdown",
   "metadata": {},
   "source": [
    "# 3.)"
   ]
  },
  {
   "cell_type": "code",
   "execution_count": 1,
   "metadata": {},
   "outputs": [],
   "source": [
    "import numpy as np\n",
    "import pandas as pd"
   ]
  },
  {
   "cell_type": "code",
   "execution_count": 2,
   "metadata": {},
   "outputs": [],
   "source": [
    "def get_vectors_with_specified_correlation(correlation):\n",
    "    corr = np.array([[1, correlation], [correlation, 1]])\n",
    "    n = 1000\n",
    "    d = 2\n",
    "    means = np.array([0,0])\n",
    "    y = np.random.multivariate_normal(means, corr, size=1000)\n",
    "    return (y[:,0], y[:,1])\n",
    "    "
   ]
  },
  {
   "cell_type": "code",
   "execution_count": 3,
   "metadata": {},
   "outputs": [
    {
     "data": {
      "text/html": [
       "<div>\n",
       "<style scoped>\n",
       "    .dataframe tbody tr th:only-of-type {\n",
       "        vertical-align: middle;\n",
       "    }\n",
       "\n",
       "    .dataframe tbody tr th {\n",
       "        vertical-align: top;\n",
       "    }\n",
       "\n",
       "    .dataframe thead th {\n",
       "        text-align: right;\n",
       "    }\n",
       "</style>\n",
       "<table border=\"1\" class=\"dataframe\">\n",
       "  <thead>\n",
       "    <tr style=\"text-align: right;\">\n",
       "      <th></th>\n",
       "      <th>x</th>\n",
       "      <th>y</th>\n",
       "    </tr>\n",
       "  </thead>\n",
       "  <tbody>\n",
       "    <tr>\n",
       "      <th>x</th>\n",
       "      <td>1.00</td>\n",
       "      <td>0.99</td>\n",
       "    </tr>\n",
       "    <tr>\n",
       "      <th>y</th>\n",
       "      <td>0.99</td>\n",
       "      <td>1.00</td>\n",
       "    </tr>\n",
       "  </tbody>\n",
       "</table>\n",
       "</div>"
      ],
      "text/plain": [
       "      x     y\n",
       "x  1.00  0.99\n",
       "y  0.99  1.00"
      ]
     },
     "execution_count": 3,
     "metadata": {},
     "output_type": "execute_result"
    }
   ],
   "source": [
    "vectors = get_vectors_with_specified_correlation(0.99)\n",
    "pd.DataFrame({\"x\": vectors[0], \"y\": vectors[1]}).corr(method=\"pearson\").round(2)"
   ]
  },
  {
   "cell_type": "code",
   "execution_count": 4,
   "metadata": {},
   "outputs": [
    {
     "data": {
      "text/html": [
       "<div>\n",
       "<style scoped>\n",
       "    .dataframe tbody tr th:only-of-type {\n",
       "        vertical-align: middle;\n",
       "    }\n",
       "\n",
       "    .dataframe tbody tr th {\n",
       "        vertical-align: top;\n",
       "    }\n",
       "\n",
       "    .dataframe thead th {\n",
       "        text-align: right;\n",
       "    }\n",
       "</style>\n",
       "<table border=\"1\" class=\"dataframe\">\n",
       "  <thead>\n",
       "    <tr style=\"text-align: right;\">\n",
       "      <th></th>\n",
       "      <th>x</th>\n",
       "      <th>y</th>\n",
       "    </tr>\n",
       "  </thead>\n",
       "  <tbody>\n",
       "    <tr>\n",
       "      <th>x</th>\n",
       "      <td>1.00</td>\n",
       "      <td>0.99</td>\n",
       "    </tr>\n",
       "    <tr>\n",
       "      <th>y</th>\n",
       "      <td>0.99</td>\n",
       "      <td>1.00</td>\n",
       "    </tr>\n",
       "  </tbody>\n",
       "</table>\n",
       "</div>"
      ],
      "text/plain": [
       "      x     y\n",
       "x  1.00  0.99\n",
       "y  0.99  1.00"
      ]
     },
     "execution_count": 4,
     "metadata": {},
     "output_type": "execute_result"
    }
   ],
   "source": [
    "pd.DataFrame({\"x\": vectors[0], \"y\": vectors[1]}).corr(method=\"spearman\").round(2)"
   ]
  },
  {
   "cell_type": "code",
   "execution_count": null,
   "metadata": {},
   "outputs": [],
   "source": []
  }
 ],
 "metadata": {
  "interpreter": {
   "hash": "694a9dfeccd2ddb8843df4ce1f1609feedf1a4a84b95446e18a965a9beddbfdf"
  },
  "kernelspec": {
   "display_name": "Python 3.9.7 64-bit ('env_study': conda)",
   "language": "python",
   "name": "python397jvsc74a57bd0694a9dfeccd2ddb8843df4ce1f1609feedf1a4a84b95446e18a965a9beddbfdf"
  },
  "language_info": {
   "codemirror_mode": {
    "name": "ipython",
    "version": 3
   },
   "file_extension": ".py",
   "mimetype": "text/x-python",
   "name": "python",
   "nbconvert_exporter": "python",
   "pygments_lexer": "ipython3",
   "version": "3.9.7"
  }
 },
 "nbformat": 4,
 "nbformat_minor": 4
}
