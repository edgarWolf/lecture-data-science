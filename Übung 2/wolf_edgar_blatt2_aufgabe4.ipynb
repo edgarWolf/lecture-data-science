{
 "cells": [
  {
   "cell_type": "code",
   "execution_count": 11,
   "metadata": {},
   "outputs": [],
   "source": [
    "import pandas as pd\n",
    "import numpy as np\n",
    "import matplotlib.pyplot as plt"
   ]
  },
  {
   "cell_type": "markdown",
   "metadata": {},
   "source": [
    "# 1.)"
   ]
  },
  {
   "cell_type": "code",
   "execution_count": 12,
   "metadata": {},
   "outputs": [
    {
     "data": {
      "text/html": [
       "<div>\n",
       "<style scoped>\n",
       "    .dataframe tbody tr th:only-of-type {\n",
       "        vertical-align: middle;\n",
       "    }\n",
       "\n",
       "    .dataframe tbody tr th {\n",
       "        vertical-align: top;\n",
       "    }\n",
       "\n",
       "    .dataframe thead tr th {\n",
       "        text-align: left;\n",
       "    }\n",
       "</style>\n",
       "<table border=\"1\" class=\"dataframe\">\n",
       "  <thead>\n",
       "    <tr>\n",
       "      <th></th>\n",
       "      <th colspan=\"2\" halign=\"left\">away</th>\n",
       "      <th colspan=\"2\" halign=\"left\">bullseye</th>\n",
       "      <th colspan=\"2\" halign=\"left\">circle</th>\n",
       "      <th colspan=\"2\" halign=\"left\">dino</th>\n",
       "      <th colspan=\"2\" halign=\"left\">dots</th>\n",
       "      <th>...</th>\n",
       "      <th colspan=\"2\" halign=\"left\">slant_up</th>\n",
       "      <th colspan=\"2\" halign=\"left\">star</th>\n",
       "      <th colspan=\"2\" halign=\"left\">v_lines</th>\n",
       "      <th colspan=\"2\" halign=\"left\">wide_lines</th>\n",
       "      <th colspan=\"2\" halign=\"left\">x_shape</th>\n",
       "    </tr>\n",
       "    <tr>\n",
       "      <th></th>\n",
       "      <th>x</th>\n",
       "      <th>y</th>\n",
       "      <th>x</th>\n",
       "      <th>y</th>\n",
       "      <th>x</th>\n",
       "      <th>y</th>\n",
       "      <th>x</th>\n",
       "      <th>y</th>\n",
       "      <th>x</th>\n",
       "      <th>y</th>\n",
       "      <th>...</th>\n",
       "      <th>x</th>\n",
       "      <th>y</th>\n",
       "      <th>x</th>\n",
       "      <th>y</th>\n",
       "      <th>x</th>\n",
       "      <th>y</th>\n",
       "      <th>x</th>\n",
       "      <th>y</th>\n",
       "      <th>x</th>\n",
       "      <th>y</th>\n",
       "    </tr>\n",
       "  </thead>\n",
       "  <tbody>\n",
       "    <tr>\n",
       "      <th>0</th>\n",
       "      <td>32.331110</td>\n",
       "      <td>61.411101</td>\n",
       "      <td>51.203891</td>\n",
       "      <td>83.339777</td>\n",
       "      <td>55.993030</td>\n",
       "      <td>79.277264</td>\n",
       "      <td>55.3846</td>\n",
       "      <td>97.1795</td>\n",
       "      <td>51.147917</td>\n",
       "      <td>90.867412</td>\n",
       "      <td>...</td>\n",
       "      <td>47.695201</td>\n",
       "      <td>95.241187</td>\n",
       "      <td>58.213608</td>\n",
       "      <td>91.881892</td>\n",
       "      <td>50.481508</td>\n",
       "      <td>93.222701</td>\n",
       "      <td>65.815540</td>\n",
       "      <td>95.588374</td>\n",
       "      <td>38.337757</td>\n",
       "      <td>92.472719</td>\n",
       "    </tr>\n",
       "    <tr>\n",
       "      <th>1</th>\n",
       "      <td>53.421463</td>\n",
       "      <td>26.186880</td>\n",
       "      <td>58.974470</td>\n",
       "      <td>85.499818</td>\n",
       "      <td>50.032254</td>\n",
       "      <td>79.013071</td>\n",
       "      <td>51.5385</td>\n",
       "      <td>96.0256</td>\n",
       "      <td>50.517126</td>\n",
       "      <td>89.102395</td>\n",
       "      <td>...</td>\n",
       "      <td>44.609976</td>\n",
       "      <td>93.075835</td>\n",
       "      <td>58.196054</td>\n",
       "      <td>92.214989</td>\n",
       "      <td>50.282406</td>\n",
       "      <td>97.609984</td>\n",
       "      <td>65.672265</td>\n",
       "      <td>91.933402</td>\n",
       "      <td>35.751871</td>\n",
       "      <td>94.116768</td>\n",
       "    </tr>\n",
       "    <tr>\n",
       "      <th>2</th>\n",
       "      <td>63.920202</td>\n",
       "      <td>30.832194</td>\n",
       "      <td>51.872073</td>\n",
       "      <td>85.829738</td>\n",
       "      <td>51.288459</td>\n",
       "      <td>82.435940</td>\n",
       "      <td>46.1538</td>\n",
       "      <td>94.4872</td>\n",
       "      <td>50.207480</td>\n",
       "      <td>85.460047</td>\n",
       "      <td>...</td>\n",
       "      <td>43.856381</td>\n",
       "      <td>94.085872</td>\n",
       "      <td>58.718231</td>\n",
       "      <td>90.310532</td>\n",
       "      <td>50.186703</td>\n",
       "      <td>99.694680</td>\n",
       "      <td>39.002716</td>\n",
       "      <td>92.261838</td>\n",
       "      <td>32.767218</td>\n",
       "      <td>88.518295</td>\n",
       "    </tr>\n",
       "    <tr>\n",
       "      <th>3</th>\n",
       "      <td>70.289506</td>\n",
       "      <td>82.533649</td>\n",
       "      <td>48.179931</td>\n",
       "      <td>85.045117</td>\n",
       "      <td>51.170537</td>\n",
       "      <td>79.165294</td>\n",
       "      <td>42.8205</td>\n",
       "      <td>91.4103</td>\n",
       "      <td>50.069482</td>\n",
       "      <td>83.057670</td>\n",
       "      <td>...</td>\n",
       "      <td>41.578929</td>\n",
       "      <td>90.303567</td>\n",
       "      <td>57.278373</td>\n",
       "      <td>89.907607</td>\n",
       "      <td>50.326911</td>\n",
       "      <td>90.022053</td>\n",
       "      <td>37.795303</td>\n",
       "      <td>93.532455</td>\n",
       "      <td>33.729607</td>\n",
       "      <td>88.622266</td>\n",
       "    </tr>\n",
       "    <tr>\n",
       "      <th>4</th>\n",
       "      <td>34.118830</td>\n",
       "      <td>45.734551</td>\n",
       "      <td>41.683200</td>\n",
       "      <td>84.017941</td>\n",
       "      <td>44.377915</td>\n",
       "      <td>78.164628</td>\n",
       "      <td>40.7692</td>\n",
       "      <td>88.3333</td>\n",
       "      <td>50.562846</td>\n",
       "      <td>82.937822</td>\n",
       "      <td>...</td>\n",
       "      <td>49.177419</td>\n",
       "      <td>96.610532</td>\n",
       "      <td>58.082020</td>\n",
       "      <td>92.008145</td>\n",
       "      <td>50.456207</td>\n",
       "      <td>89.987410</td>\n",
       "      <td>35.513901</td>\n",
       "      <td>89.599190</td>\n",
       "      <td>37.238249</td>\n",
       "      <td>83.724928</td>\n",
       "    </tr>\n",
       "    <tr>\n",
       "      <th>...</th>\n",
       "      <td>...</td>\n",
       "      <td>...</td>\n",
       "      <td>...</td>\n",
       "      <td>...</td>\n",
       "      <td>...</td>\n",
       "      <td>...</td>\n",
       "      <td>...</td>\n",
       "      <td>...</td>\n",
       "      <td>...</td>\n",
       "      <td>...</td>\n",
       "      <td>...</td>\n",
       "      <td>...</td>\n",
       "      <td>...</td>\n",
       "      <td>...</td>\n",
       "      <td>...</td>\n",
       "      <td>...</td>\n",
       "      <td>...</td>\n",
       "      <td>...</td>\n",
       "      <td>...</td>\n",
       "      <td>...</td>\n",
       "      <td>...</td>\n",
       "    </tr>\n",
       "    <tr>\n",
       "      <th>137</th>\n",
       "      <td>59.851838</td>\n",
       "      <td>72.958391</td>\n",
       "      <td>50.967748</td>\n",
       "      <td>29.679774</td>\n",
       "      <td>39.921363</td>\n",
       "      <td>19.701850</td>\n",
       "      <td>39.4872</td>\n",
       "      <td>25.3846</td>\n",
       "      <td>50.533635</td>\n",
       "      <td>17.019581</td>\n",
       "      <td>...</td>\n",
       "      <td>31.333244</td>\n",
       "      <td>32.538569</td>\n",
       "      <td>43.722551</td>\n",
       "      <td>19.077328</td>\n",
       "      <td>30.487392</td>\n",
       "      <td>19.779470</td>\n",
       "      <td>33.674442</td>\n",
       "      <td>26.090490</td>\n",
       "      <td>34.794594</td>\n",
       "      <td>13.969683</td>\n",
       "    </tr>\n",
       "    <tr>\n",
       "      <th>138</th>\n",
       "      <td>48.960460</td>\n",
       "      <td>72.629526</td>\n",
       "      <td>91.191054</td>\n",
       "      <td>46.674343</td>\n",
       "      <td>84.794278</td>\n",
       "      <td>55.568650</td>\n",
       "      <td>91.2821</td>\n",
       "      <td>41.5385</td>\n",
       "      <td>77.500907</td>\n",
       "      <td>50.166986</td>\n",
       "      <td>...</td>\n",
       "      <td>86.401550</td>\n",
       "      <td>38.746933</td>\n",
       "      <td>79.326078</td>\n",
       "      <td>52.900391</td>\n",
       "      <td>89.500180</td>\n",
       "      <td>31.978917</td>\n",
       "      <td>75.627255</td>\n",
       "      <td>37.128752</td>\n",
       "      <td>79.221764</td>\n",
       "      <td>22.094591</td>\n",
       "    </tr>\n",
       "    <tr>\n",
       "      <th>139</th>\n",
       "      <td>46.844855</td>\n",
       "      <td>36.791714</td>\n",
       "      <td>55.863768</td>\n",
       "      <td>85.336487</td>\n",
       "      <td>55.662959</td>\n",
       "      <td>83.356480</td>\n",
       "      <td>50.0000</td>\n",
       "      <td>95.7692</td>\n",
       "      <td>50.691124</td>\n",
       "      <td>87.513960</td>\n",
       "      <td>...</td>\n",
       "      <td>47.442112</td>\n",
       "      <td>98.184302</td>\n",
       "      <td>56.663974</td>\n",
       "      <td>87.940125</td>\n",
       "      <td>50.410272</td>\n",
       "      <td>98.628369</td>\n",
       "      <td>40.610125</td>\n",
       "      <td>89.136240</td>\n",
       "      <td>36.030880</td>\n",
       "      <td>93.121733</td>\n",
       "    </tr>\n",
       "    <tr>\n",
       "      <th>140</th>\n",
       "      <td>39.963022</td>\n",
       "      <td>42.944915</td>\n",
       "      <td>49.280595</td>\n",
       "      <td>84.048823</td>\n",
       "      <td>50.492248</td>\n",
       "      <td>78.997532</td>\n",
       "      <td>47.9487</td>\n",
       "      <td>95.0000</td>\n",
       "      <td>49.990395</td>\n",
       "      <td>83.997357</td>\n",
       "      <td>...</td>\n",
       "      <td>46.264741</td>\n",
       "      <td>94.116192</td>\n",
       "      <td>57.821789</td>\n",
       "      <td>90.693167</td>\n",
       "      <td>50.325924</td>\n",
       "      <td>94.994631</td>\n",
       "      <td>39.114366</td>\n",
       "      <td>96.481751</td>\n",
       "      <td>34.499558</td>\n",
       "      <td>86.609985</td>\n",
       "    </tr>\n",
       "    <tr>\n",
       "      <th>141</th>\n",
       "      <td>66.704944</td>\n",
       "      <td>32.015095</td>\n",
       "      <td>43.368502</td>\n",
       "      <td>84.332177</td>\n",
       "      <td>51.467101</td>\n",
       "      <td>79.201845</td>\n",
       "      <td>44.1026</td>\n",
       "      <td>92.6923</td>\n",
       "      <td>50.127182</td>\n",
       "      <td>82.990750</td>\n",
       "      <td>...</td>\n",
       "      <td>40.163816</td>\n",
       "      <td>87.448672</td>\n",
       "      <td>58.243172</td>\n",
       "      <td>92.104328</td>\n",
       "      <td>50.104032</td>\n",
       "      <td>95.088538</td>\n",
       "      <td>34.583829</td>\n",
       "      <td>89.588902</td>\n",
       "      <td>31.106867</td>\n",
       "      <td>89.461635</td>\n",
       "    </tr>\n",
       "  </tbody>\n",
       "</table>\n",
       "<p>142 rows × 26 columns</p>\n",
       "</div>"
      ],
      "text/plain": [
       "          away              bullseye                circle             \\\n",
       "             x          y          x          y          x          y   \n",
       "0    32.331110  61.411101  51.203891  83.339777  55.993030  79.277264   \n",
       "1    53.421463  26.186880  58.974470  85.499818  50.032254  79.013071   \n",
       "2    63.920202  30.832194  51.872073  85.829738  51.288459  82.435940   \n",
       "3    70.289506  82.533649  48.179931  85.045117  51.170537  79.165294   \n",
       "4    34.118830  45.734551  41.683200  84.017941  44.377915  78.164628   \n",
       "..         ...        ...        ...        ...        ...        ...   \n",
       "137  59.851838  72.958391  50.967748  29.679774  39.921363  19.701850   \n",
       "138  48.960460  72.629526  91.191054  46.674343  84.794278  55.568650   \n",
       "139  46.844855  36.791714  55.863768  85.336487  55.662959  83.356480   \n",
       "140  39.963022  42.944915  49.280595  84.048823  50.492248  78.997532   \n",
       "141  66.704944  32.015095  43.368502  84.332177  51.467101  79.201845   \n",
       "\n",
       "        dino                dots             ...   slant_up             \\\n",
       "           x        y          x          y  ...          x          y   \n",
       "0    55.3846  97.1795  51.147917  90.867412  ...  47.695201  95.241187   \n",
       "1    51.5385  96.0256  50.517126  89.102395  ...  44.609976  93.075835   \n",
       "2    46.1538  94.4872  50.207480  85.460047  ...  43.856381  94.085872   \n",
       "3    42.8205  91.4103  50.069482  83.057670  ...  41.578929  90.303567   \n",
       "4    40.7692  88.3333  50.562846  82.937822  ...  49.177419  96.610532   \n",
       "..       ...      ...        ...        ...  ...        ...        ...   \n",
       "137  39.4872  25.3846  50.533635  17.019581  ...  31.333244  32.538569   \n",
       "138  91.2821  41.5385  77.500907  50.166986  ...  86.401550  38.746933   \n",
       "139  50.0000  95.7692  50.691124  87.513960  ...  47.442112  98.184302   \n",
       "140  47.9487  95.0000  49.990395  83.997357  ...  46.264741  94.116192   \n",
       "141  44.1026  92.6923  50.127182  82.990750  ...  40.163816  87.448672   \n",
       "\n",
       "          star               v_lines            wide_lines             \\\n",
       "             x          y          x          y          x          y   \n",
       "0    58.213608  91.881892  50.481508  93.222701  65.815540  95.588374   \n",
       "1    58.196054  92.214989  50.282406  97.609984  65.672265  91.933402   \n",
       "2    58.718231  90.310532  50.186703  99.694680  39.002716  92.261838   \n",
       "3    57.278373  89.907607  50.326911  90.022053  37.795303  93.532455   \n",
       "4    58.082020  92.008145  50.456207  89.987410  35.513901  89.599190   \n",
       "..         ...        ...        ...        ...        ...        ...   \n",
       "137  43.722551  19.077328  30.487392  19.779470  33.674442  26.090490   \n",
       "138  79.326078  52.900391  89.500180  31.978917  75.627255  37.128752   \n",
       "139  56.663974  87.940125  50.410272  98.628369  40.610125  89.136240   \n",
       "140  57.821789  90.693167  50.325924  94.994631  39.114366  96.481751   \n",
       "141  58.243172  92.104328  50.104032  95.088538  34.583829  89.588902   \n",
       "\n",
       "       x_shape             \n",
       "             x          y  \n",
       "0    38.337757  92.472719  \n",
       "1    35.751871  94.116768  \n",
       "2    32.767218  88.518295  \n",
       "3    33.729607  88.622266  \n",
       "4    37.238249  83.724928  \n",
       "..         ...        ...  \n",
       "137  34.794594  13.969683  \n",
       "138  79.221764  22.094591  \n",
       "139  36.030880  93.121733  \n",
       "140  34.499558  86.609985  \n",
       "141  31.106867  89.461635  \n",
       "\n",
       "[142 rows x 26 columns]"
      ]
     },
     "execution_count": 12,
     "metadata": {},
     "output_type": "execute_result"
    }
   ],
   "source": [
    "df = pd.read_csv(\"resources/xys.tsv\", delim_whitespace=True, header=[0,1])\n",
    "df"
   ]
  },
  {
   "cell_type": "markdown",
   "metadata": {},
   "source": [
    "# 2.)"
   ]
  },
  {
   "cell_type": "code",
   "execution_count": 15,
   "metadata": {},
   "outputs": [
    {
     "data": {
      "image/png": "[encoded data removed]",
      "text/plain": [
       "<Figure size 432x288 with 1 Axes>"
      ]
     },
     "metadata": {
      "needs_background": "light"
     },
     "output_type": "display_data"
    },
    {
     "data": {
      "image/png": "[encoded data removed]",
      "text/plain": [
       "<Figure size 432x288 with 1 Axes>"
      ]
     },
     "metadata": {
      "needs_background": "light"
     },
     "output_type": "display_data"
    },
    {
     "data": {
      "image/png": "[encoded data removed]",
      "text/plain": [
       "<Figure size 432x288 with 1 Axes>"
      ]
     },
     "metadata": {
      "needs_background": "light"
     },
     "output_type": "display_data"
    },
    {
     "data": {
      "image/png": "[encoded data removed]",
      "text/plain": [
       "<Figure size 432x288 with 1 Axes>"
      ]
     },
     "metadata": {
      "needs_background": "light"
     },
     "output_type": "display_data"
    },
    {
     "data": {
      "image/png": "[encoded data removed]",
      "text/plain": [
       "<Figure size 432x288 with 1 Axes>"
      ]
     },
     "metadata": {
      "needs_background": "light"
     },
     "output_type": "display_data"
    },
    {
     "data": {
      "image/png": "[encoded data removed]",
      "text/plain": [
       "<Figure size 432x288 with 1 Axes>"
      ]
     },
     "metadata": {
      "needs_background": "light"
     },
     "output_type": "display_data"
    },
    {
     "data": {
      "image/png": "[encoded data removed]",
      "text/plain": [
       "<Figure size 432x288 with 1 Axes>"
      ]
     },
     "metadata": {
      "needs_background": "light"
     },
     "output_type": "display_data"
    },
    {
     "data": {
      "image/png": "[encoded data removed]",
      "text/plain": [
       "<Figure size 432x288 with 1 Axes>"
      ]
     },
     "metadata": {
      "needs_background": "light"
     },
     "output_type": "display_data"
    },
    {
     "data": {
      "image/png": "[encoded data removed]",
      "text/plain": [
       "<Figure size 432x288 with 1 Axes>"
      ]
     },
     "metadata": {
      "needs_background": "light"
     },
     "output_type": "display_data"
    },
    {
     "data": {
      "image/png": "[encoded data removed]",
      "text/plain": [
       "<Figure size 432x288 with 1 Axes>"
      ]
     },
     "metadata": {
      "needs_background": "light"
     },
     "output_type": "display_data"
    },
    {
     "data": {
      "image/png": "[encoded data removed]",
      "text/plain": [
       "<Figure size 432x288 with 1 Axes>"
      ]
     },
     "metadata": {
      "needs_background": "light"
     },
     "output_type": "display_data"
    },
    {
     "data": {
      "image/png": "[encoded data removed]",
      "text/plain": [
       "<Figure size 432x288 with 1 Axes>"
      ]
     },
     "metadata": {
      "needs_background": "light"
     },
     "output_type": "display_data"
    },
    {
     "data": {
      "image/png": "[encoded data removed]",
      "text/plain": [
       "<Figure size 432x288 with 1 Axes>"
      ]
     },
     "metadata": {
      "needs_background": "light"
     },
     "output_type": "display_data"
    }
   ],
   "source": [
    "features = df.columns\n",
    "feature_names_distinct = sorted({feature[0] for feature in features})\n",
    "\n",
    "for feature in feature_names_distinct:\n",
    "    xyv = df.xs(feature, level=0, axis=1)\n",
    "    xv = xyv.loc[:, \"x\"]\n",
    "    yv = xyv.loc[:, \"y\"]\n",
    "    \n",
    "    plt.title(feature)\n",
    "    plt.scatter(xv, yv)\n",
    "    plt.show()\n",
    "    "
   ]
  },
  {
   "cell_type": "markdown",
   "metadata": {},
   "source": [
    "# 3.)"
   ]
  },
  {
   "cell_type": "code",
   "execution_count": 4,
   "metadata": {},
   "outputs": [
    {
     "name": "stdout",
     "output_type": "stream",
     "text": [
      "Feature 'away':\n",
      " X Mean = 54.26609978420493 ; X Std = 16.769824954157365\n",
      " Y Mean = 47.83472062488411 ; Y Std = 26.93974341888335\n",
      "Feature 'bullseye':\n",
      " X Mean = 54.26873002237886 ; X Std = 16.76923949342675\n",
      " Y Mean = 47.83082315521781 ; Y Std = 26.935726689885946\n",
      "Feature 'circle':\n",
      " X Mean = 54.26731970617395 ; X Std = 16.760012659672196\n",
      " Y Mean = 47.83771726721833 ; Y Std = 26.930036087830345\n",
      "Feature 'dino':\n",
      " X Mean = 54.26327323943664 ; X Std = 16.765142039116785\n",
      " Y Mean = 47.832252816901374 ; Y Std = 26.935403486939123\n",
      "Feature 'dots':\n",
      " X Mean = 54.260303451217624 ; X Std = 16.767735488432596\n",
      " Y Mean = 47.83982920875562 ; Y Std = 26.930191518085515\n",
      "Feature 'h_lines':\n",
      " X Mean = 54.26144178351409 ; X Std = 16.765897904068495\n",
      " Y Mean = 47.8302519136352 ; Y Std = 26.939876220039828\n",
      "Feature 'high_lines':\n",
      " X Mean = 54.26880527974155 ; X Std = 16.76670401616923\n",
      " Y Mean = 47.835450203936624 ; Y Std = 26.939997961212953\n",
      "Feature 'slant_down':\n",
      " X Mean = 54.2678488233662 ; X Std = 16.766758947404618\n",
      " Y Mean = 47.83589633058821 ; Y Std = 26.936104931637743\n",
      "Feature 'slant_up':\n",
      " X Mean = 54.26588178560211 ; X Std = 16.768852670628497\n",
      " Y Mean = 47.83149565202442 ; Y Std = 26.938608070892247\n",
      "Feature 'star':\n",
      " X Mean = 54.26734110449507 ; X Std = 16.76895921627654\n",
      " Y Mean = 47.839545225097886 ; Y Std = 26.93027468764851\n",
      "Feature 'v_lines':\n",
      " X Mean = 54.26992723102747 ; X Std = 16.76995861135582\n",
      " Y Mean = 47.83698798816882 ; Y Std = 26.937683806973936\n",
      "Feature 'wide_lines':\n",
      " X Mean = 54.266916301257034 ; X Std = 16.76999961796734\n",
      " Y Mean = 47.8316019880062 ; Y Std = 26.937901927715235\n",
      "Feature 'x_shape':\n",
      " X Mean = 54.26015033403806 ; X Std = 16.76995769581929\n",
      " Y Mean = 47.839717279160446 ; Y Std = 26.930001686980987\n"
     ]
    }
   ],
   "source": [
    "for feature in feature_names_distinct:\n",
    "    xyv = df.xs(feature, level=0, axis=1)\n",
    "    xv = xyv.loc[:, \"x\"]\n",
    "    yv = xyv.loc[:, \"y\"]\n",
    "    \n",
    "    x_mean = xv.mean()\n",
    "    x_std = xv.std()\n",
    "    \n",
    "    y_mean = yv.mean()\n",
    "    y_std = yv.std()\n",
    "    \n",
    "    \n",
    "    print(\"Feature '{0}':\\n X Mean = {1} ; X Std = {2}\\n Y Mean = {3} ; Y Std = {4}\".format(feature, x_mean, x_std, y_mean, y_std))"
   ]
  },
  {
   "cell_type": "code",
   "execution_count": null,
   "metadata": {},
   "outputs": [],
   "source": []
  },
  {
   "cell_type": "markdown",
   "metadata": {},
   "source": [
    "# 4.)"
   ]
  },
  {
   "cell_type": "code",
   "execution_count": 5,
   "metadata": {},
   "outputs": [
    {
     "data": {
      "text/html": [
       "<div>\n",
       "<style scoped>\n",
       "    .dataframe tbody tr th:only-of-type {\n",
       "        vertical-align: middle;\n",
       "    }\n",
       "\n",
       "    .dataframe tbody tr th {\n",
       "        vertical-align: top;\n",
       "    }\n",
       "\n",
       "    .dataframe thead th {\n",
       "        text-align: right;\n",
       "    }\n",
       "</style>\n",
       "<table border=\"1\" class=\"dataframe\">\n",
       "  <thead>\n",
       "    <tr style=\"text-align: right;\">\n",
       "      <th></th>\n",
       "      <th>away</th>\n",
       "      <th>bullseye</th>\n",
       "      <th>circle</th>\n",
       "      <th>dino</th>\n",
       "      <th>dots</th>\n",
       "      <th>h_lines</th>\n",
       "      <th>high_lines</th>\n",
       "      <th>slant_down</th>\n",
       "      <th>slant_up</th>\n",
       "      <th>star</th>\n",
       "      <th>v_lines</th>\n",
       "      <th>wide_lines</th>\n",
       "      <th>x_shape</th>\n",
       "    </tr>\n",
       "  </thead>\n",
       "  <tbody>\n",
       "    <tr>\n",
       "      <th>0</th>\n",
       "      <td>-0.064128</td>\n",
       "      <td>-0.068586</td>\n",
       "      <td>-0.068343</td>\n",
       "      <td>-0.064472</td>\n",
       "      <td>-0.060341</td>\n",
       "      <td>-0.061715</td>\n",
       "      <td>-0.068504</td>\n",
       "      <td>-0.06898</td>\n",
       "      <td>-0.068609</td>\n",
       "      <td>-0.062961</td>\n",
       "      <td>-0.069446</td>\n",
       "      <td>-0.066575</td>\n",
       "      <td>-0.065583</td>\n",
       "    </tr>\n",
       "  </tbody>\n",
       "</table>\n",
       "</div>"
      ],
      "text/plain": [
       "       away  bullseye    circle      dino      dots   h_lines  high_lines  \\\n",
       "0 -0.064128 -0.068586 -0.068343 -0.064472 -0.060341 -0.061715   -0.068504   \n",
       "\n",
       "   slant_down  slant_up      star   v_lines  wide_lines   x_shape  \n",
       "0    -0.06898 -0.068609 -0.062961 -0.069446   -0.066575 -0.065583  "
      ]
     },
     "execution_count": 5,
     "metadata": {},
     "output_type": "execute_result"
    }
   ],
   "source": [
    "corrs = {}\n",
    "for feature in feature_names_distinct:\n",
    "    xyv = df.xs(feature, level=0, axis=1)\n",
    "    xv = xyv.loc[:, \"x\"]\n",
    "    yv = xyv.loc[:, \"y\"]\n",
    "    \n",
    "    correlation = xv.corr(yv)\n",
    "    corrs[feature] = [correlation]\n",
    "\n",
    "\n",
    "pd.DataFrame(corrs)"
   ]
  },
  {
   "cell_type": "code",
   "execution_count": 10,
   "metadata": {},
   "outputs": [
    {
     "data": {
      "text/html": [
       "<div>\n",
       "<style scoped>\n",
       "    .dataframe tbody tr th:only-of-type {\n",
       "        vertical-align: middle;\n",
       "    }\n",
       "\n",
       "    .dataframe tbody tr th {\n",
       "        vertical-align: top;\n",
       "    }\n",
       "\n",
       "    .dataframe thead tr th {\n",
       "        text-align: left;\n",
       "    }\n",
       "</style>\n",
       "<table border=\"1\" class=\"dataframe\">\n",
       "  <thead>\n",
       "    <tr>\n",
       "      <th></th>\n",
       "      <th colspan=\"2\" halign=\"left\">away</th>\n",
       "      <th colspan=\"2\" halign=\"left\">bullseye</th>\n",
       "      <th colspan=\"2\" halign=\"left\">circle</th>\n",
       "      <th colspan=\"2\" halign=\"left\">dino</th>\n",
       "      <th colspan=\"2\" halign=\"left\">dots</th>\n",
       "      <th>...</th>\n",
       "      <th colspan=\"2\" halign=\"left\">slant_up</th>\n",
       "      <th colspan=\"2\" halign=\"left\">star</th>\n",
       "      <th colspan=\"2\" halign=\"left\">v_lines</th>\n",
       "      <th colspan=\"2\" halign=\"left\">wide_lines</th>\n",
       "      <th colspan=\"2\" halign=\"left\">x_shape</th>\n",
       "    </tr>\n",
       "    <tr>\n",
       "      <th></th>\n",
       "      <th>x</th>\n",
       "      <th>y</th>\n",
       "      <th>x</th>\n",
       "      <th>y</th>\n",
       "      <th>x</th>\n",
       "      <th>y</th>\n",
       "      <th>x</th>\n",
       "      <th>y</th>\n",
       "      <th>x</th>\n",
       "      <th>y</th>\n",
       "      <th>...</th>\n",
       "      <th>x</th>\n",
       "      <th>y</th>\n",
       "      <th>x</th>\n",
       "      <th>y</th>\n",
       "      <th>x</th>\n",
       "      <th>y</th>\n",
       "      <th>x</th>\n",
       "      <th>y</th>\n",
       "      <th>x</th>\n",
       "      <th>y</th>\n",
       "    </tr>\n",
       "  </thead>\n",
       "  <tbody>\n",
       "    <tr>\n",
       "      <th>mean</th>\n",
       "      <td>54.266100</td>\n",
       "      <td>47.834721</td>\n",
       "      <td>54.268730</td>\n",
       "      <td>47.830823</td>\n",
       "      <td>54.267320</td>\n",
       "      <td>47.837717</td>\n",
       "      <td>54.263273</td>\n",
       "      <td>47.832253</td>\n",
       "      <td>54.260303</td>\n",
       "      <td>47.839829</td>\n",
       "      <td>...</td>\n",
       "      <td>54.265882</td>\n",
       "      <td>47.831496</td>\n",
       "      <td>54.267341</td>\n",
       "      <td>47.839545</td>\n",
       "      <td>54.269927</td>\n",
       "      <td>47.836988</td>\n",
       "      <td>54.266916</td>\n",
       "      <td>47.831602</td>\n",
       "      <td>54.260150</td>\n",
       "      <td>47.839717</td>\n",
       "    </tr>\n",
       "    <tr>\n",
       "      <th>std</th>\n",
       "      <td>16.769825</td>\n",
       "      <td>26.939743</td>\n",
       "      <td>16.769239</td>\n",
       "      <td>26.935727</td>\n",
       "      <td>16.760013</td>\n",
       "      <td>26.930036</td>\n",
       "      <td>16.765142</td>\n",
       "      <td>26.935403</td>\n",
       "      <td>16.767735</td>\n",
       "      <td>26.930192</td>\n",
       "      <td>...</td>\n",
       "      <td>16.768853</td>\n",
       "      <td>26.938608</td>\n",
       "      <td>16.768959</td>\n",
       "      <td>26.930275</td>\n",
       "      <td>16.769959</td>\n",
       "      <td>26.937684</td>\n",
       "      <td>16.770000</td>\n",
       "      <td>26.937902</td>\n",
       "      <td>16.769958</td>\n",
       "      <td>26.930002</td>\n",
       "    </tr>\n",
       "  </tbody>\n",
       "</table>\n",
       "<p>2 rows × 26 columns</p>\n",
       "</div>"
      ],
      "text/plain": [
       "           away              bullseye                circle             \\\n",
       "              x          y          x          y          x          y   \n",
       "mean  54.266100  47.834721  54.268730  47.830823  54.267320  47.837717   \n",
       "std   16.769825  26.939743  16.769239  26.935727  16.760013  26.930036   \n",
       "\n",
       "           dino                  dots             ...   slant_up             \\\n",
       "              x          y          x          y  ...          x          y   \n",
       "mean  54.263273  47.832253  54.260303  47.839829  ...  54.265882  47.831496   \n",
       "std   16.765142  26.935403  16.767735  26.930192  ...  16.768853  26.938608   \n",
       "\n",
       "           star               v_lines            wide_lines             \\\n",
       "              x          y          x          y          x          y   \n",
       "mean  54.267341  47.839545  54.269927  47.836988  54.266916  47.831602   \n",
       "std   16.768959  26.930275  16.769959  26.937684  16.770000  26.937902   \n",
       "\n",
       "        x_shape             \n",
       "              x          y  \n",
       "mean  54.260150  47.839717  \n",
       "std   16.769958  26.930002  \n",
       "\n",
       "[2 rows x 26 columns]"
      ]
     },
     "execution_count": 10,
     "metadata": {},
     "output_type": "execute_result"
    }
   ],
   "source": [
    "df.agg([np.mean, np.std])"
   ]
  },
  {
   "cell_type": "code",
   "execution_count": null,
   "metadata": {},
   "outputs": [],
   "source": []
  }
 ],
 "metadata": {
  "interpreter": {
   "hash": "694a9dfeccd2ddb8843df4ce1f1609feedf1a4a84b95446e18a965a9beddbfdf"
  },
  "kernelspec": {
   "display_name": "Python 3 (ipykernel)",
   "language": "python",
   "name": "python3"
  },
  "language_info": {
   "codemirror_mode": {
    "name": "ipython",
    "version": 3
   },
   "file_extension": ".py",
   "mimetype": "text/x-python",
   "name": "python",
   "nbconvert_exporter": "python",
   "pygments_lexer": "ipython3",
   "version": "3.9.7"
  }
 },
 "nbformat": 4,
 "nbformat_minor": 4
}
