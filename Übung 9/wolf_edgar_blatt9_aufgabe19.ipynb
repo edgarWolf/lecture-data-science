{
 "cells": [
  {
   "cell_type": "markdown",
   "id": "24b93e21",
   "metadata": {},
   "source": [
    "# 1.)"
   ]
  },
  {
   "cell_type": "markdown",
   "id": "1a9a86b4",
   "metadata": {},
   "source": [
    "Auf einem Wahrscheinlichkeitsraum ($\\Omega, \\mathcal{A}, \\mathbb{P}$) seien Zufallsvariablen $X, Y$ definiert, die eine endliche Varianz haben.\n",
    "\n",
    "## Zu beweisen:\n",
    "$$\n",
    "Cov[X,Y] = \\mathbb{E}[XY] - \\mathbb{E}[X][EY]\n",
    "$$\n",
    "\n",
    "## Beweis:\n",
    "Es gilt: \n",
    "$$\n",
    "Cov[X,Y] = \\mathbb{E}[(X - \\mathbb{E}[X])(Y - \\mathbb{E}[Y])]\n",
    "$$\n",
    "\n",
    "Also gilt:\n",
    "\\begin{align*}\n",
    "Cov[X,Y] &= \\mathbb{E}[(X - \\mathbb{E}[X])(Y - \\mathbb{E}[Y])] = \\mathbb{E}[XY -Y\\mathbb{E}[X] - X \\mathbb{E}[Y] + \\mathbb{E}[X] \\mathbb{E}[Y] ] \\\\\n",
    "&= \\mathbb{E}[XY] - \\mathbb{E}[Y \\mathbb{E}[X]] - \\mathbb{E}[X \\mathbb{E}[Y]] + \\mathbb{E}[\\mathbb{E}[X]\\mathbb{E}[Y]] \\\\\n",
    "&= \\mathbb{E}[XY] - \\mathbb{E}[X]\\mathbb{E}[Y] - \\mathbb{E}[Y]\\mathbb{E}[X] + \\mathbb{E}[\\mathbb{E}[X]\\mathbb{E}[Y]] \\\\\n",
    "&= \\mathbb{E}[XY] - 2\\mathbb{E}[X]\\mathbb{E}[Y] + \\mathbb{E}[\\mathbb{E}[X]\\mathbb{E}[Y]] \\\\\n",
    "&= \\mathbb{E}[XY] - 2\\mathbb{E}[X]\\mathbb{E}[Y] + \\mathbb{E}[X]\\mathbb{E}[Y]  \\\\\n",
    "&= \\mathbb{E}[XY] - \\mathbb{E}[X]\\mathbb{E}[Y] \\\\\n",
    "\\end{align*}\n",
    "\n",
    "## Bezug zum Steinerschen Verschiebungssatz der Varianz\n",
    "Der Steinersche Verschiebungssatz für die Varianz ist definiert als:\n",
    "$$\n",
    "Var[X] = \\mathbb{E}[X^2] - E[X]^2\n",
    "$$\n",
    "\n",
    "Dies kann man als einen Spezialfall des Satzes ansehen, bei dem die zwei Zufallsvariablen die gleichen sind:\n",
    "$$\n",
    "Var[X] = \\mathbb{E}[X^2] - \\mathbb{E}[X]^2 = \\mathbb{E}[X \\cdot X]  - \\mathbb{E}[X]\\mathbb{E}[X]\n",
    "$$"
   ]
  },
  {
   "cell_type": "markdown",
   "id": "5a256d70",
   "metadata": {},
   "source": [
    "# 2.)"
   ]
  },
  {
   "cell_type": "markdown",
   "id": "61e488d9",
   "metadata": {},
   "source": [
    "Es sei $\\lambda \\gt 0$ und für $ n \\in \\mathbb{N}, p_n = \\frac{\\lambda}{n}$. Auf einem Wahrscheinlichkeitsraum $(\\Omega, \\mathcal{A}, \\mathbb{P})$ seien Zufallsvariablen $X_1, X_2, ...$ definiert, sodass $X_n$ geometrisch verteilt zum Parameter $p_n$ ist. Es gelte also:\n",
    "$$\n",
    "\\mathbb{P}(X_n=k) = (1-p_n)^{k-1}p_n \\text{ für } k \\in \\mathbb{N} = \\{1, 2, 3,... \\}\n",
    "$$\n",
    "\n",
    "## Zu zeigen:\n",
    "Die Verteilungsfunktion von $\\frac{X_n}{n}$ konvergiert gegen die Verteilungsfunktion der Exponentialverteilung. Dafür zuerst die Verteilungsfunktion der Exponentialverteilung bestimmen. Außerdem gilt \n",
    "$$\n",
    "lim_{n \\rightarrow \\infty}(1 + \\frac{a}{n})^n = exp(a)\n",
    "$$\n",
    "sowie die geometrische Reihe \n",
    "$$\n",
    "\\sum_{k=0}^{\\infty} q^k = \\frac{1}{1-q}\n",
    "$$\n",
    "bzw. \n",
    "$$\n",
    "s_n = a_0 \\sum_{k=0}^{n}q^k = a_o \\frac{1- q^{n+1}}{1-q}\n",
    "$$\n",
    "\n",
    "Die Verteilungsfunktion der Exponentialfunktion ist:\n",
    "\\begin{align*}\n",
    "\\mathbb{P}(X_n \\leq a) \\\\\n",
    "&= \\int_0^{a} \\lambda \\cdot exp(-\\lambda x) dx \\\\\n",
    "&= \\lambda \\int_0^{a} exp(-\\lambda x) dx \\\\\n",
    "&= \\lambda \\left[-exp(-\\lambda x) \\frac{1}{\\lambda} \\right]_0^{na} \\\\\n",
    "&= \\lambda \\left(-exp(-\\lambda a) \\frac{1}{\\lambda}  - \\frac{1}{\\lambda} \\right) \\\\\n",
    "&= -e^{-\\lambda a} + 1 \\\\\n",
    "&= 1 -e^{-\\lambda a}\n",
    "\\end{align*}\n",
    "\n",
    "Die Verteilungsfunktion der geometrischen Verteilung lautet:\n",
    "$$\n",
    "\\mathbb{P}(X_n=k) = (1-p_n)^{k-1}p_n\n",
    "$$\n",
    "\n",
    "Daraus ergibt sich:\n",
    "\\begin{align*}\n",
    "\\mathbb{P}(X_n/n=a) &= \\mathbb{P}(X_n = na) \\\\\n",
    "&= (1-p_n)^{na - 1}p_n \\\\\n",
    "&= (1- \\frac{\\lambda}{n})^{na - 1}\\frac{\\lambda}{n} \\text{ für } na \\in \\mathbb{N} = \\{1, 2, 3,... \\} \\\\\n",
    "&= \\sum_{i=1}^{na} (1-\\frac{\\lambda}{n})^{i-1} \\frac{\\lambda}{n} \\\\\n",
    "&= \\frac{\\lambda}{n} \\sum_{i=1}^{na} (1-\\frac{\\lambda}{n})^{i-1} \\\\ \n",
    "&= \\frac{\\lambda}{n} \\sum_{i=0}^{na - 1} (1-\\frac{\\lambda}{n})^{i} \\\\\n",
    "&= \\frac{\\lambda}{n} \\frac{1- (1-\\frac{\\lambda}{n})^{na})}{1-(1-\\frac{\\lambda}{n})} \\text{ Anwendung der geometrischen Reihe} \\\\\n",
    "&= 1 - \\left(1- \\frac{\\lambda}{n}\\right)^{na} \\\\\n",
    "&= 1 - \\left(\\left(1- \\frac{\\lambda}{n}\\right)^{n}\\right)^{a} \\\\\n",
    "& lim_{n \\rightarrow \\infty} \\left(1- \\frac{\\lambda}{n}\\right)^n = e^{-\\lambda} \\\\\n",
    "& \\Rightarrow lim_{n \\rightarrow \\infty} 1 - \\left(\\left(1- \\frac{\\lambda}{n}\\right)^{n}\\right)^{a} = 1 - e^{-\\lambda a} = \\mathbb{P}(X_n \\leq a) \\\\\n",
    "\\end{align*}"
   ]
  },
  {
   "cell_type": "code",
   "execution_count": null,
   "id": "013b4328",
   "metadata": {},
   "outputs": [],
   "source": []
  }
 ],
 "metadata": {
  "kernelspec": {
   "display_name": "Python 3 (ipykernel)",
   "language": "python",
   "name": "python3"
  },
  "language_info": {
   "codemirror_mode": {
    "name": "ipython",
    "version": 3
   },
   "file_extension": ".py",
   "mimetype": "text/x-python",
   "name": "python",
   "nbconvert_exporter": "python",
   "pygments_lexer": "ipython3",
   "version": "3.8.12"
  }
 },
 "nbformat": 4,
 "nbformat_minor": 5
}
