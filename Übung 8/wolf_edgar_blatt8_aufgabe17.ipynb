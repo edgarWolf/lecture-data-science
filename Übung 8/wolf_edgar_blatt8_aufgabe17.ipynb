{
 "cells": [
  {
   "cell_type": "markdown",
   "id": "048e088a",
   "metadata": {},
   "source": [
    "# 1.)"
   ]
  },
  {
   "cell_type": "markdown",
   "id": "461b21b8",
   "metadata": {},
   "source": [
    "## Es gilt:\n",
    "$$\n",
    "Var[X] = \\mathbb{E}[(X - \\mathbb{E}[X])^2] \\\\\n",
    "Cov[X, Y] = \\mathbb{E}[(X - \\mathbb{E}[X])(Y - \\mathbb{E}[Y])] \\\\\n",
    "Cor[X, Y] = \\frac{Cov[X, Y]}{ \\sqrt{Var[X]} \\sqrt{Var[Y]}} \\\\\n",
    "$$"
   ]
  },
  {
   "cell_type": "markdown",
   "id": "6ec6832b",
   "metadata": {},
   "source": [
    "## Zu zeigen:\n",
    "$$\n",
    "Var[aX + Y] = a^2 Var[X] + Var[Y] + 2a Cov[X, Y]\n",
    "$$\n",
    "Zusätzlich gegeben:\n",
    "\n",
    "$$\n",
    "\\mathbb{E}[X + aY] = \\mathbb{E}[X] + a\\mathbb{E}[Y]\n",
    "$$\n",
    "\n",
    "## Beweis:\n",
    "$$\n",
    "Var[aX + Y] = \\mathbb{E}[(aX + Y - \\mathbb{E}[aX + Y])^2] = \\mathbb{E}[(aX + Y - a\\mathbb{E}[X] - \\mathbb{E}[Y])^2] \n",
    "= \\mathbb{E}[(aX - a\\mathbb{E}[X] + Y - \\mathbb{E}[Y])^2] = \\mathbb{E}[(a(X - \\mathbb{E}[X]) + Y - \\mathbb{E}[Y])^2] \\\\\n",
    "\\\\\n",
    "\\text{Sei } a = a(X - \\mathbb{E}[X]) \\text{ und } b = Y - \\mathbb{E}[Y] \\\\\n",
    "\\\\\n",
    "\\mathbb{E}[(a+b)^2] = \\mathbb{E}[(a^2 + 2ab + b^2] = \\mathbb{E}[ (a(X - \\mathbb{E}[X]))^2 + 2 a(X - \\mathbb{E}[X]) (Y - \\mathbb{E}[Y]) +  (Y - \\mathbb{E}[Y])^2 ] = \\\\ \\mathbb{E}[(a(X - \\mathbb{E}[X]))^2] + \\mathbb{E}[2 a(X - \\mathbb{E}[X]) (Y - \\mathbb{E}[Y])] + \\mathbb{E}[(Y - \\mathbb{E}[Y])^2] = \\\\\n",
    " \\mathbb{E}[(a^2(X - \\mathbb{E}[X])^2] + 2a Cov[X, Y] + Var[Y] =  a^2 Var[X] + 2a Cov[X, Y] + Var[Y]\n",
    "$$"
   ]
  },
  {
   "cell_type": "markdown",
   "id": "20496dcf",
   "metadata": {},
   "source": [
    "# 2.)"
   ]
  },
  {
   "cell_type": "markdown",
   "id": "1f00bbab",
   "metadata": {},
   "source": [
    "Es sei $ p \\in (0,1) $. Es sei $ B $ eine Bernoulli($ p $)-verteilte Zufallsvariable (also ein \\{0, 1\\}-wertiger Münzwurf, der 1 mit Wahrscheinlichkeit $ p $ annnimmt).\n",
    "## Zu zeigen:\n",
    "$$\n",
    "\\mathbb{E}[B] = p \\text{ und } Var[B] = p(1-p)\n",
    "$$\n",
    "\n",
    "Wobei gilt:\n",
    "$$\n",
    "\\mathbb{E}[X] = \\sum_i x_i\\mathbb{P}(X=x_i) \\\\\n",
    "\\mathbb{E}[h(X)] = \\sum_i h(x_i)\\mathbb{P}(X=x_i) \\text{ für } h : \\mathbb{R} \\rightarrow \\mathbb{R}\n",
    "$$\n",
    "\n",
    "## Beweis:\n",
    "$$\n",
    "\\mathbb{E}[B] = \\sum_i b_i \\mathbb{P}(B=b_i) = 0 \\cdot \\mathbb{P}(B=0) + 1 \\cdot \\mathbb{P}(B=1) = 0 + 1 \\cdot p = p \\\\\n",
    "Var[B] = \\mathbb{E}[(B - \\mathbb{E}[B])^2] = \\mathbb{E}[B^2 - 2B \\cdot \\mathbb{E}[B] + E[B]^2] = \\mathbb{E}[B^2] - \\mathbb{E}[2B \\cdot \\mathbb{E}[B])] + E[E[B]^2] = p - \\mathbb{E}[2B \\cdot p] + p^2 = p - 2p^2 + p^2 = p -p^2 = p(1-p)\\\\\n",
    "Var[B] = E[X^2] - E[X]^2 = p - p^2 = p(1-p)\n",
    "$$"
   ]
  },
  {
   "cell_type": "markdown",
   "id": "b9c91552",
   "metadata": {},
   "source": [
    "# 3.)"
   ]
  },
  {
   "cell_type": "markdown",
   "id": "2a6ebb52",
   "metadata": {},
   "source": [
    "Es sei $ n \\in \\mathbb{N} $ und $ p \\in (0, 1) $. Es sei $ S_n $ eine Binomial$(n, p)$-verteilte Zufallsvariable. $ S_n $ modelliert also die Anzahl der \"Köpfe\" beim n-maligen unabhängigen Münzwurf, wenn jeder Münzwurf mit Wahrscheinlichkeit p einen \"Kopf\" zeigt.\n",
    "## Zu zeigen:\n",
    "$$\n",
    "Var[S_n] = np(1-p)\n",
    "$$\n",
    "\n",
    "Hinweis: $S_n$ als Summe geeigneter Zufallsvariablen darstellen und eine Verallgemeinerung von 1.) anwenden. Kovarianz zweier unabhängiger Zufallsvariablen $ = 0 $.\n",
    "\n",
    "## Beweis:\n",
    "Betrachte $S_n$ als eine $n$ malige Ausführung eines Bernoulli-Versuches. Seien $ X_1, ..., X_n $ unabhängige Bernoulli-verteilte Zufallsvariablen.\n",
    "Stelle $S_n$ dar als:\n",
    "$$\n",
    "S_n = \\sum_{i=1}^n X_i\n",
    "$$\n",
    "Dann gilt, aufgrund der Bernoulli-Verteilung dieser Zufallsvariablen \n",
    "$$\n",
    "Var[S_n] = Var\\left[\\sum_{i=1}^n X_i\\right] + \\sum_{i \\neq j} Cov[X_i, X_j] = nVar[X_1] = np(1-p)\n",
    "$$.\n",
    "Beachte, dass für unabhängige Zufallsvariablen die Kovarianz = 0 ist.\n",
    "\n"
   ]
  },
  {
   "cell_type": "code",
   "execution_count": null,
   "id": "82525285",
   "metadata": {},
   "outputs": [],
   "source": []
  }
 ],
 "metadata": {
  "kernelspec": {
   "display_name": "Python 3 (ipykernel)",
   "language": "python",
   "name": "python3"
  },
  "language_info": {
   "codemirror_mode": {
    "name": "ipython",
    "version": 3
   },
   "file_extension": ".py",
   "mimetype": "text/x-python",
   "name": "python",
   "nbconvert_exporter": "python",
   "pygments_lexer": "ipython3",
   "version": "3.8.12"
  }
 },
 "nbformat": 4,
 "nbformat_minor": 5
}
