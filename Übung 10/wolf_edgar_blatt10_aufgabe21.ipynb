{
 "cells": [
  {
   "cell_type": "markdown",
   "id": "635fa41e",
   "metadata": {},
   "source": [
    "Es sei $X$ eine Zufallsvariable, definiert auf einem Wahrscheinlichkeitsraum $(\\Omega, \\mathcal{A}, \\mathbb{P})$ habe die Dichte\n",
    "$$\n",
    "f(x) = \n",
    "\\begin{cases} \n",
    "C \\cdot x^4 & x \\in [0, 1] \\\\\n",
    "0 & x \\not \\in [0,1] \\\\\n",
    "\\end{cases}\n",
    "$$"
   ]
  },
  {
   "cell_type": "markdown",
   "id": "c15be1a8",
   "metadata": {},
   "source": [
    "# 1.) \n",
    "### Bestimmen der Normierungskonstante C.\n",
    "\n",
    "\\begin{align*}\n",
    "C^2 = \\left(\\int_{0}^{1}x^4 dx\\right)^2 &= \\left( \\left[\\frac{1}{5}x^5 \\right]_{0}^{1}\\right)^2 = \\left(\\frac{1}{5}\\right)^2 = \\frac{1}{25} \\\\\n",
    "\\Rightarrow C = \\frac{5}{1} = 5\n",
    "\\end{align*}"
   ]
  },
  {
   "cell_type": "markdown",
   "id": "884e5125",
   "metadata": {},
   "source": [
    "# 2.)\n",
    "### Bestimmen der Verteilungsfunktion $F$.\n",
    "\n",
    "$$\n",
    "F(x) = \\int_{-\\infty}^{x}f(x) dx = \\int_{-\\infty}^{x} 5 \\cdot y^4 = 5 \\cdot \\int_{-\\infty}^{x} y^4 =  5 \\cdot \\int_{0}^{x} y^4 = 5 \\cdot \\frac{x^5}{5} = x^5\n",
    "$$"
   ]
  },
  {
   "cell_type": "markdown",
   "id": "32c7b413",
   "metadata": {},
   "source": [
    "# 3.)\n",
    "### Berechnen des Erwartungswertes $\\mathbb{E}[X]$ und der Varianz $Var[X]$.\n",
    "\n",
    "$$\n",
    "\\mathbb{E}[X] = \\int_{0}^{1} x \\cdot f(x) dx = \\int_{0}^{1} x \\cdot 5 x^4 dx = \\int_{0}^{1} 5 x^5 = 5 \\cdot \\int_{0}^{1} x^5 dx = 5 \\cdot \\left[\\frac{1}{6}x^6\\right]_{0}^1 = 5 \\cdot \\frac{1}{6} = \\frac{5}{6}\n",
    "$$\n",
    "\n",
    "\\begin{align*}\n",
    "Var[X] &= \\mathbb{E}[(X - \\mathbb{E}[X])^2] \\\\\n",
    "&= \\mathbb{E}[X^2] - \\mathbb{E}[X]^2 \\\\\n",
    "&= \\int_{0}^{1} x^2 \\cdot f(x) dx - \\frac{25}{36} \\\\\n",
    "&= 5\\cdot \\int_{0}^{1} x^6 dx - \\frac{25}{36} \\\\\n",
    "&= 5 \\cdot \\left[\\frac{1}{7}x^7\\right]_{0}^1 - \\frac{25}{36} = \\frac{5}{7} - \\frac{25}{36} = \\frac{5}{252} = 0.02\n",
    "\\end{align*}"
   ]
  }
 ],
 "metadata": {
  "kernelspec": {
   "display_name": "Python 3 (ipykernel)",
   "language": "python",
   "name": "python3"
  },
  "language_info": {
   "codemirror_mode": {
    "name": "ipython",
    "version": 3
   },
   "file_extension": ".py",
   "mimetype": "text/x-python",
   "name": "python",
   "nbconvert_exporter": "python",
   "pygments_lexer": "ipython3",
   "version": "3.8.12"
  }
 },
 "nbformat": 4,
 "nbformat_minor": 5
}
