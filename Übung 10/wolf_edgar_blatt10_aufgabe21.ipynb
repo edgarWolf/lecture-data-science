{
 "cells": [
  {
   "cell_type": "markdown",
   "id": "635fa41e",
   "metadata": {},
   "source": [
    "Es sei $X$ eine Zufallsvariable, definiert auf einem Wahrscheinlichkeitsraum $(\\Omega, \\mathcal{A}, \\mathbb{P})$ habe die Dichte\n",
    "$$\n",
    "f(x) = \n",
    "\\begin{cases} \n",
    "C \\cdot x^4 & x \\in [0, 1] \\\\\n",
    "0 & x \\not \\in [0,1] \\\\\n",
    "\\end{cases}\n",
    "$$"
   ]
  },
  {
   "cell_type": "markdown",
   "id": "c15be1a8",
   "metadata": {},
   "source": [
    "# 1.) \n",
    "### Bestimmen der Normierungskonstante C.\n",
    "\n",
    "\\begin{align*}\n",
    "C^2 = \\left(\\int_{-1}^{1}x^4 dx\\right)^2 &= \\left( \\left[\\frac{1}{5}x^5 \\right]_{- 1}^{1}\\right)^2 = \\left(\\frac{1}{5} - \\left(-\\frac{1}{5}\\right)\\right)^2 = \\left(\\frac{2}{5}\\right)^2 = \\frac{4}{25} \\\\\n",
    "\\Rightarrow C = \\frac{5}{2} = 2.5\n",
    "\\end{align*}"
   ]
  },
  {
   "cell_type": "markdown",
   "id": "884e5125",
   "metadata": {},
   "source": [
    "# 2.)\n",
    "### Bestimmen der Verteilungsfunktion $F$.\n",
    "\n",
    "$$\n",
    "F(x) = \\int_{-\\infty}^{x}f(x) dx = \\int_{-\\infty}^{x} \\frac{5}{2} \\cdot x^4 \n",
    "$$"
   ]
  },
  {
   "cell_type": "markdown",
   "id": "32c7b413",
   "metadata": {},
   "source": [
    "# 3.)\n",
    "### Berechnen des Erwartungswertes $\\mathbb{E}[X]$ und der Varianz $Var[X]$.\n",
    "\n",
    "$$\n",
    "\\mathbb{E}[X] = \\int_{-1}^{1} x \\cdot f(x) dx = \\int_{-1}^{1} x \\cdot \\frac{5}{2} x^4 dx = \\int_{-1}^{1} \\frac{5}{2} x^5 = \\left[\\frac{5}{12}x^6\\right]_{-1}^1 = \\frac{5}{12} - \\frac{5}{12} = 0\n",
    "$$\n",
    "\n",
    "\\begin{align*}\n",
    "Var[X] = \\mathbb{E}[(X - \\mathbb{E}[X])^2] = \\mathbb{E}[X^2] - \\mathbb{E}[X]^2 = \\int_{-1}^{1} x^2 \\cdot f(x) = \\int_{-1}^{1} \\frac{5}{2} x^6 dx = \\left[\\frac{5}{14}x^7\\right]_{-1}^1 = \\frac{5}{14} - \\left(- \\frac{5}{14}\\right) = \\frac{5}{7}\n",
    "\\end{align*}"
   ]
  }
 ],
 "metadata": {
  "kernelspec": {
   "display_name": "Python 3 (ipykernel)",
   "language": "python",
   "name": "python3"
  },
  "language_info": {
   "codemirror_mode": {
    "name": "ipython",
    "version": 3
   },
   "file_extension": ".py",
   "mimetype": "text/x-python",
   "name": "python",
   "nbconvert_exporter": "python",
   "pygments_lexer": "ipython3",
   "version": "3.8.12"
  }
 },
 "nbformat": 4,
 "nbformat_minor": 5
}
