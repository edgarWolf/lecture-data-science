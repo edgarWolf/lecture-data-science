{
 "cells": [
  {
   "cell_type": "markdown",
   "metadata": {},
   "source": [
    "# 1.)"
   ]
  },
  {
   "cell_type": "markdown",
   "metadata": {},
   "source": [
    "Zu zeigen: \n",
    "$$\n",
    "m(x + ay) = m(x) + a m(y)\n",
    "$$\n",
    "Wobei gilt\n",
    "$$\n",
    "m(x) = \\frac{1}{n}\\sum_{i=1}^{n}x_i\n",
    "$$\n",
    "Beweis:\n",
    "$$\n",
    "m(x + ay) = \\frac{1}{n}\\sum_{i=1}^{n}x_i + ay_i \\\\\n",
    "m(x + ay) = \\frac{1}{n}(\\sum_{i=1}^{n}x_i + \\sum_{i=1}^{n}ay_i) \\\\\n",
    "m(x + ay) = \\frac{1}{n}(\\sum_{i=1}^{n}x_i + a\\sum_{i=1}^{n}y_i) \\\\\n",
    "m(x + ay) = \\frac{1}{n}\\sum_{i=1}^{n}x_i + a\\frac{1}{n}\\sum_{i=1}^{n}y_i = m(x) + am(y) \\\\\n",
    "$$"
   ]
  },
  {
   "cell_type": "markdown",
   "metadata": {},
   "source": [
    "# 2.)"
   ]
  },
  {
   "cell_type": "markdown",
   "metadata": {},
   "source": [
    "Zu zeigen:\n",
    "$$\n",
    "var(x + ay) = var(x) + a²var(y) + 2a cov(x,y)\n",
    "$$\n",
    "Wobei gilt:\n",
    "$$\n",
    "var(x) = \\frac{1}{n-1}\\sum_{i=1}^{n}[x_i-m(x)]² \\\\\n",
    "cov(x,y) = \\frac{1}{n-1}\\sum_{i=1}^{n}(x_i - m(x))(y_i - m(y))\n",
    "$$\n",
    "Beweis:\n",
    "$$\n",
    "var(x + ay) = \\frac{1}{n-1}\\sum_{i=1}^{n}[x_i+ay_i - m(x + ay)]²\\\\\n",
    "var(x + ay) = \\frac{1}{n-1}\\sum_{i=1}^{n}[x_i+ay_i - (m(x) + am(y))]²\\\\\n",
    "var(x + ay) = \\frac{1}{n-1}\\sum_{i=1}^{n}[x_i+ay_i - m(x) - am(y)]²\\\\\n",
    "var(x + ay) = \\frac{1}{n-1}\\sum_{i=1}^{n}[(x_i - m(x)) + a(y_i - m(y))]²\\\\\n",
    "var(x + ay) = \\frac{1}{n-1}\\sum_{i=1}^{n}[(x_i - m(x))² + 2((x_i-m(x)) * a(y_i -m(y))) + (ay_i - am(y))²]\\\\\n",
    "var(x + ay) = \\frac{1}{n-1}\\sum_{i=1}^{n}(x_i - m(x))² + \\frac{1}{n-1}\\sum_{i=1}^{n}2((x_i-m(x)) * a(y_i -m(y))) + \\frac{1}{n-1}\\sum_{i=1}^{n}(ay_i - am(y))²]\\\\\n",
    "var(x + ay) = var(x) + \\frac{1}{n-1}*2\\sum_{i=1}^{n}((x_i-m(x)) * a(y_i -m(y))) + \\frac{1}{n-1}\\sum_{i=1}^{n}(a(y_i - m(y)))²]\\\\\n",
    "var(x + ay) = var(x) + \\frac{1}{n-1}*2a\\sum_{i=1}^{n}((x_i-m(x)) * (y_i -m(y))) + \\frac{1}{n-1}\\sum_{i=1}^{n}(a²(y_i - m(y))²]\\\\\n",
    "var(x + ay) = var(x) + \\frac{1}{n-1}*2a\\sum_{i=1}^{n}((x_i-m(x)) * (y_i -m(y))) + a²\\frac{1}{n-1}\\sum_{i=1}^{n}(y_i - m(y))²]\\\\\n",
    "var(x + ay) = var(x) + a²var(y) + \\frac{1}{n-1}*2a\\sum_{i=1}^{n}((x_i-m(x)) * (y_i -m(y)))\\\\\n",
    "var(x + ay) = var(x) + a²var(y) + 2acov(x,y)\\\\\n",
    "$$"
   ]
  },
  {
   "cell_type": "markdown",
   "metadata": {},
   "source": [
    "# 3.)"
   ]
  },
  {
   "cell_type": "markdown",
   "metadata": {},
   "source": [
    "Zu zeigen:\n",
    "$$\n",
    "K = D^T*D / (n-1)\n",
    "$$\n",
    "Wobei gilt:\n",
    "- D = Datenmatrix\n",
    "$$\n",
    "\\begin{pmatrix}\n",
    "f_{11} & f_{12} & ... & f_{1m} \\\\\n",
    "f_{21} & f_{22} & ... & f_{2m} \\\\\n",
    ". & . & . & . \\\\\n",
    ". & . & . & . \\\\\n",
    ". & . & . & . \\\\ \n",
    "f_{n1} & f_{n2} & ... & f_{nm} \\\\\n",
    "\\end{pmatrix}\n",
    "$$\n",
    "- K = Kovarianzmatrix\n",
    "- Für alle Spalten $ i $ in $ D $ und alle Spaltenvektoren $ f_i $ gilt: $ m(f_i) = 0 $\n",
    "- $ cov(x,y) = \\frac{1}{n-1}\\sum_{i=1}^{n}(x_i - m(x))(y_i - m(y)) $\n",
    "\n",
    "Beweis:\n",
    "$$\n",
    "K = \n",
    "\\begin{pmatrix}\n",
    "cov(f_1,f_1) & cov(f_1,f_2) & ... & cov(f_1,f_m)\\\\\n",
    "cov(f_2,f_1) & cov(f_2,f_2) & ... & cov(f_2,f_m)\\\\\n",
    ". & . & . & . \\\\\n",
    ". & . & . & . \\\\\n",
    ". & . & . & . \\\\\n",
    "cov(f_m, f_1) & cov(f_m, f_2) & ... & cov(f_m, f_m)\n",
    "\\end{pmatrix}\n",
    "$$\n",
    "\n",
    "$$\n",
    "D^T = \n",
    "\\begin{pmatrix}\n",
    "f_{11} & f_{21} & ... & f_{n1} \\\\\n",
    "f_{12} & f_{22} & ... & f_{n2} \\\\\n",
    ". & . & . & . \\\\\n",
    ". & . & . & . \\\\\n",
    ". & . & . & . \\\\ \n",
    "f_{1m} & f_{2m} & ... & f_{nm} \\\\\n",
    "\\end{pmatrix}\n",
    "$$\n",
    "\n",
    "Es gilt:\n",
    "$$\n",
    "cov(f_i, f_j) = \\frac{1}{n-1}\\sum_{k=1}^{n}(f_{ki} - m(f_i))(f_{kj} - m(f_j)) \\\\\n",
    "cov(f_i, f_j) = \\frac{1}{n-1}\\sum_{k=1}^{n}f_{ki} f_{kj} \\\\\n",
    "$$\n",
    "Dabei wird klar: Für alle Spalten $ i $ gilt:  $f_{ki} = ( f_{1i}, f_{2i}, ..., f_{ni} ) = f_{ik}^T $\n",
    "Also gilt:\n",
    "$$\n",
    "cov(f_i, f_j) = (D^T * D)_{i,j} / (n-1)\n",
    "$$\n",
    "\n",
    "Und somit für die gesamte Matrix $ K $:\n",
    "$$\n",
    "K = D^T * D / (n-1)\n",
    "$$"
   ]
  }
 ],
 "metadata": {
  "interpreter": {
   "hash": "694a9dfeccd2ddb8843df4ce1f1609feedf1a4a84b95446e18a965a9beddbfdf"
  },
  "kernelspec": {
   "display_name": "Python 3.9.7 64-bit ('env_study': conda)",
   "language": "python",
   "name": "python3"
  },
  "language_info": {
   "name": "python",
   "version": "3.9.7"
  },
  "orig_nbformat": 4
 },
 "nbformat": 4,
 "nbformat_minor": 2
}
