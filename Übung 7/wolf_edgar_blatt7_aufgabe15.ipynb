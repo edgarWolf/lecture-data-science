{
 "cells": [
  {
   "cell_type": "markdown",
   "id": "cb94b380",
   "metadata": {},
   "source": [
    "Es sei $ \\lambda \\gt 0 $. Es sei $ X $ eine Exponentialverteilte Zufallsvariable, definiert auf einem Wahrscheinlichkeitsraum $ (\\Omega, \\mathcal{A}, \\mathbb{P})$. "
   ]
  },
  {
   "cell_type": "markdown",
   "id": "cfd64b9a",
   "metadata": {},
   "source": [
    "# 1.)\n",
    "## Zu berechnen:\n",
    "$$\n",
    "\\mathbb{P}(X \\in \\mathbb{R})\n",
    "$$\n",
    "## Berechnung:\n",
    "$$\n",
    "\\mathbb{P}(X \\in \\mathbb{R}) = \\int_{0}^{\\infty}f(x)dx = \\int_{0}^{\\infty}\\lambda e^{-\\lambda x}dx = \\lambda \\int_{0}^{\\infty} e^{-\\lambda x}dx = \\lambda [-\\frac{1}{\\lambda}\\cdot e^{-\\lambda x}]_{0}^{\\infty} = \\lambda \\cdot (0 - (-\\frac{1}{\\lambda})) = \\lambda \\cdot \\frac{1}{\\lambda} =  1\n",
    "$$"
   ]
  },
  {
   "cell_type": "markdown",
   "id": "ce00849f",
   "metadata": {},
   "source": [
    "# 2.)\n",
    "## Zu berechnen\n",
    "$$\n",
    "E[X]\n",
    "$$\n",
    "\n",
    "## Berechnung\n",
    "$$\n",
    "E[X] = \\int_{0}^{\\infty}x \\cdot f(x)dx = \\int_{0}^{\\infty}x \\cdot \\lambda e^{-\\lambda x} dx = \\lambda \\int_{0}^{\\infty}x \\cdot e^{-\\lambda x} dx  \\\\\n",
    "\\text{Lösen mittels partieller Integration: } \\\\\n",
    "\\int f(x) \\cdot g'(x) = f(x) \\cdot g(x) - \\int f'(x) \\cdot g(x) dx \\\\\n",
    "\\Rightarrow f(x) = x \\quad f'(x) = 1 \\\\\n",
    "\\Rightarrow g(x) = -\\frac{1}{\\lambda}\\cdot e^{-\\lambda x} \\quad g'(x) = e^{-\\lambda x} \\\\\n",
    "E[X] = \\lambda \\cdot ([-\\frac{1}{\\lambda}\\cdot e^{-\\lambda x} \\cdot x]_{0}^{\\infty} - \\int_{0}^{\\infty}1 \\cdot (-\\frac{1}{\\lambda})\\cdot e^{-\\lambda x}) dx = \\lambda \\cdot (0 - 0 - [\\frac{1}{\\lambda^2}\\cdot e^{-\\lambda x}]_{0}^{\\infty}) = \\lambda \\cdot (-(0 - \\frac{1}{\\lambda^2})) = \\lambda \\cdot \\frac{1}{\\lambda^{2}} = \\frac{1}{\\lambda}\n",
    "$$"
   ]
  },
  {
   "cell_type": "markdown",
   "id": "9dd7e5e0",
   "metadata": {},
   "source": [
    "# 3.)\n",
    "\n",
    "## Zu berechnen\n",
    "$$\n",
    "E[X^2] \\text{ und } Var[X] \\text{ , wobei } E[X^2] = \\int_{0}^{\\infty}x^2g(x) dx \\text{ , und } g \\text{ die Dichte der Exponentialverteilung ist. }\n",
    "$$\n",
    "\n",
    "## Berechnung\n",
    "### $E[X^2]$\n",
    "$$\n",
    "E[X^2] = \\int_{0}^{\\infty}x^2\\lambda e^{-\\lambda x} = \\lambda \\int_{0}^{\\infty}x^2 e^{-\\lambda x} \\\\\n",
    "\\text{Lösung mittels partieller Integration: } \\\\\n",
    "\\int f(x) \\cdot g'(x) = f(x) \\cdot g(x) - \\int f'(x) \\cdot g(x) dx \\\\\n",
    "\\Rightarrow f(x) = x^2 \\quad f'(x) = 2x \\\\\n",
    "\\Rightarrow g(x) = -\\frac{1}{\\lambda}\\cdot e^{-\\lambda x} \\quad g'(x) = e^{-\\lambda x}\\\\\n",
    "\\Rightarrow f(x) = x^2 \\quad f'(x) = 2x \\\\\n",
    "\\Rightarrow g(x) = -\\frac{1}{\\lambda}\\cdot e^{-\\lambda x} \\quad g'(x) = e^{-\\lambda x} \\\\\n",
    "E[X^2] = \\lambda \\cdot ([-\\frac{1}{\\lambda}\\cdot e^{-\\lambda x} \\cdot x^2]_{0}^{\\infty} - \\int_{0}^{\\infty}2x \\cdot (-\\frac{1}{\\lambda})\\cdot e^{-\\lambda x}) dx = \\lambda (- \\int_{0}^{\\infty}2x \\cdot (-\\frac{1}{\\lambda})\\cdot e^{-\\lambda x}) dx) = -2\\lambda \\int_{0}^{\\infty}x \\cdot (-\\frac{1}{\\lambda}\\cdot e^{-\\lambda x}) dx) \\\\\n",
    "\\text{Weiteres Auflösen erneut mittels partieller Integration: } \\\\ \n",
    "\\Rightarrow f(x) = x \\quad f'(x) = 1 \\\\\n",
    "\\Rightarrow g(x) = \\frac{1}{\\lambda^2}\\cdot e^{-\\lambda x} \\quad g'(x) = -\\frac{1}{\\lambda}\\cdot e^{-\\lambda x} \\\\\n",
    "-2\\lambda \\int_{0}^{\\infty}x \\cdot (-\\frac{1}{\\lambda}\\cdot e^{-\\lambda x}) dx) = -2\\lambda ([x \\frac{1}{\\lambda^2}\\cdot e^{-\\lambda x} ]_0^{\\infty} - \\int_0^{\\infty} \\frac{1}{\\lambda^2}\\cdot e^{-\\lambda x}) = 2\\lambda \\int_0^{\\infty}\\frac{1}{\\lambda^2}\\cdot e^{-\\lambda x} dx = 2 (\\lambda \\int_0^{\\infty} \\frac{1}{\\lambda} \\cdot e^{-\\lambda x} \\cdot \\frac{1}{\\lambda}  dx) = 2 \\cdot \\frac{1}{\\lambda} E[X] = \\frac{2}{\\lambda} E[X] = \\frac{2}{\\lambda} \\cdot \\frac{1}{\\lambda} = \\frac{2}{\\lambda^2}\n",
    "$$\n",
    "\n",
    "### $ Var[x] $\n",
    "$$\n",
    "Var[X] = E[X^2] - E[X]^2 = \\frac{2}{\\lambda^2} - (\\frac{1}{\\lambda})^2 = \\frac{2}{\\lambda^2} - \\frac{1}{\\lambda^2} = \\frac{1}{\\lambda^2}\n",
    "$$"
   ]
  },
  {
   "cell_type": "code",
   "execution_count": null,
   "id": "cbaaf010",
   "metadata": {},
   "outputs": [],
   "source": []
  }
 ],
 "metadata": {
  "kernelspec": {
   "display_name": "Python 3 (ipykernel)",
   "language": "python",
   "name": "python3"
  },
  "language_info": {
   "codemirror_mode": {
    "name": "ipython",
    "version": 3
   },
   "file_extension": ".py",
   "mimetype": "text/x-python",
   "name": "python",
   "nbconvert_exporter": "python",
   "pygments_lexer": "ipython3",
   "version": "3.8.12"
  }
 },
 "nbformat": 4,
 "nbformat_minor": 5
}
